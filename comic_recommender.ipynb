{
 "cells": [
  {
   "cell_type": "markdown",
   "metadata": {},
   "source": [
    "The aim of this is to build a recommendation algorithm that will take a Marvel Cinematic Universe Film and return comic book recommendations based on the characters within that movie. "
   ]
  },
  {
   "cell_type": "code",
   "execution_count": 1,
   "metadata": {},
   "outputs": [],
   "source": [
    "import pandas as pd\n",
    "import numpy as np\n",
    "\n",
    "characters = pd.read_csv('characters.csv')\n",
    "comics = pd.read_csv('comics.csv')\n",
    "mapper = pd.read_csv('charactersToComics.csv')"
   ]
  },
  {
   "cell_type": "code",
   "execution_count": 2,
   "metadata": {},
   "outputs": [
    {
     "data": {
      "text/html": [
       "<div>\n",
       "<style scoped>\n",
       "    .dataframe tbody tr th:only-of-type {\n",
       "        vertical-align: middle;\n",
       "    }\n",
       "\n",
       "    .dataframe tbody tr th {\n",
       "        vertical-align: top;\n",
       "    }\n",
       "\n",
       "    .dataframe thead th {\n",
       "        text-align: right;\n",
       "    }\n",
       "</style>\n",
       "<table border=\"1\" class=\"dataframe\">\n",
       "  <thead>\n",
       "    <tr style=\"text-align: right;\">\n",
       "      <th></th>\n",
       "      <th>comicID</th>\n",
       "      <th>title</th>\n",
       "      <th>issueNumber</th>\n",
       "      <th>description</th>\n",
       "    </tr>\n",
       "  </thead>\n",
       "  <tbody>\n",
       "    <tr>\n",
       "      <th>0</th>\n",
       "      <td>16232</td>\n",
       "      <td>Cap Transport (2005) #12</td>\n",
       "      <td>12.0</td>\n",
       "      <td>NaN</td>\n",
       "    </tr>\n",
       "    <tr>\n",
       "      <th>1</th>\n",
       "      <td>16248</td>\n",
       "      <td>Cap Transport (2005) #9</td>\n",
       "      <td>9.0</td>\n",
       "      <td>NaN</td>\n",
       "    </tr>\n",
       "    <tr>\n",
       "      <th>2</th>\n",
       "      <td>4990</td>\n",
       "      <td>Halo Preview (2006)</td>\n",
       "      <td>0.0</td>\n",
       "      <td>NaN</td>\n",
       "    </tr>\n",
       "    <tr>\n",
       "      <th>3</th>\n",
       "      <td>21486</td>\n",
       "      <td>Ultimate X-Men (Spanish Language Edition) (200...</td>\n",
       "      <td>9.0</td>\n",
       "      <td>NaN</td>\n",
       "    </tr>\n",
       "    <tr>\n",
       "      <th>4</th>\n",
       "      <td>58634</td>\n",
       "      <td>A Year of Marvels: The Incredible (2016) #5</td>\n",
       "      <td>5.0</td>\n",
       "      <td>It’s Halloween in the Marvel U! What does that...</td>\n",
       "    </tr>\n",
       "  </tbody>\n",
       "</table>\n",
       "</div>"
      ],
      "text/plain": [
       "   comicID                                              title  issueNumber  \\\n",
       "0    16232                           Cap Transport (2005) #12         12.0   \n",
       "1    16248                            Cap Transport (2005) #9          9.0   \n",
       "2     4990                                Halo Preview (2006)          0.0   \n",
       "3    21486  Ultimate X-Men (Spanish Language Edition) (200...          9.0   \n",
       "4    58634        A Year of Marvels: The Incredible (2016) #5          5.0   \n",
       "\n",
       "                                         description  \n",
       "0                                                NaN  \n",
       "1                                                NaN  \n",
       "2                                                NaN  \n",
       "3                                                NaN  \n",
       "4  It’s Halloween in the Marvel U! What does that...  "
      ]
     },
     "execution_count": 2,
     "metadata": {},
     "output_type": "execute_result"
    }
   ],
   "source": [
    "comics.head()"
   ]
  },
  {
   "cell_type": "code",
   "execution_count": 3,
   "metadata": {},
   "outputs": [],
   "source": [
    "comics = comics[~comics.title.str.contains('Zombie')]"
   ]
  },
  {
   "cell_type": "code",
   "execution_count": 4,
   "metadata": {},
   "outputs": [
    {
     "data": {
      "text/html": [
       "<div>\n",
       "<style scoped>\n",
       "    .dataframe tbody tr th:only-of-type {\n",
       "        vertical-align: middle;\n",
       "    }\n",
       "\n",
       "    .dataframe tbody tr th {\n",
       "        vertical-align: top;\n",
       "    }\n",
       "\n",
       "    .dataframe thead th {\n",
       "        text-align: right;\n",
       "    }\n",
       "</style>\n",
       "<table border=\"1\" class=\"dataframe\">\n",
       "  <thead>\n",
       "    <tr style=\"text-align: right;\">\n",
       "      <th></th>\n",
       "      <th>characterID</th>\n",
       "      <th>name</th>\n",
       "    </tr>\n",
       "  </thead>\n",
       "  <tbody>\n",
       "    <tr>\n",
       "      <th>0</th>\n",
       "      <td>1009220</td>\n",
       "      <td>Captain America</td>\n",
       "    </tr>\n",
       "    <tr>\n",
       "      <th>1</th>\n",
       "      <td>1010740</td>\n",
       "      <td>Winter Soldier</td>\n",
       "    </tr>\n",
       "    <tr>\n",
       "      <th>2</th>\n",
       "      <td>1009471</td>\n",
       "      <td>Nick Fury</td>\n",
       "    </tr>\n",
       "    <tr>\n",
       "      <th>3</th>\n",
       "      <td>1009552</td>\n",
       "      <td>S.H.I.E.L.D.</td>\n",
       "    </tr>\n",
       "    <tr>\n",
       "      <th>4</th>\n",
       "      <td>1009228</td>\n",
       "      <td>Sharon Carter</td>\n",
       "    </tr>\n",
       "  </tbody>\n",
       "</table>\n",
       "</div>"
      ],
      "text/plain": [
       "   characterID             name\n",
       "0      1009220  Captain America\n",
       "1      1010740   Winter Soldier\n",
       "2      1009471        Nick Fury\n",
       "3      1009552     S.H.I.E.L.D.\n",
       "4      1009228    Sharon Carter"
      ]
     },
     "execution_count": 4,
     "metadata": {},
     "output_type": "execute_result"
    }
   ],
   "source": [
    "characters.head()"
   ]
  },
  {
   "cell_type": "code",
   "execution_count": 5,
   "metadata": {},
   "outputs": [
    {
     "data": {
      "text/html": [
       "<div>\n",
       "<style scoped>\n",
       "    .dataframe tbody tr th:only-of-type {\n",
       "        vertical-align: middle;\n",
       "    }\n",
       "\n",
       "    .dataframe tbody tr th {\n",
       "        vertical-align: top;\n",
       "    }\n",
       "\n",
       "    .dataframe thead th {\n",
       "        text-align: right;\n",
       "    }\n",
       "</style>\n",
       "<table border=\"1\" class=\"dataframe\">\n",
       "  <thead>\n",
       "    <tr style=\"text-align: right;\">\n",
       "      <th></th>\n",
       "      <th>comicID</th>\n",
       "      <th>characterID</th>\n",
       "    </tr>\n",
       "  </thead>\n",
       "  <tbody>\n",
       "    <tr>\n",
       "      <th>0</th>\n",
       "      <td>16232</td>\n",
       "      <td>1009220</td>\n",
       "    </tr>\n",
       "    <tr>\n",
       "      <th>1</th>\n",
       "      <td>16232</td>\n",
       "      <td>1010740</td>\n",
       "    </tr>\n",
       "    <tr>\n",
       "      <th>2</th>\n",
       "      <td>16248</td>\n",
       "      <td>1009220</td>\n",
       "    </tr>\n",
       "    <tr>\n",
       "      <th>3</th>\n",
       "      <td>16248</td>\n",
       "      <td>1009471</td>\n",
       "    </tr>\n",
       "    <tr>\n",
       "      <th>4</th>\n",
       "      <td>16248</td>\n",
       "      <td>1009552</td>\n",
       "    </tr>\n",
       "  </tbody>\n",
       "</table>\n",
       "</div>"
      ],
      "text/plain": [
       "   comicID  characterID\n",
       "0    16232      1009220\n",
       "1    16232      1010740\n",
       "2    16248      1009220\n",
       "3    16248      1009471\n",
       "4    16248      1009552"
      ]
     },
     "execution_count": 5,
     "metadata": {},
     "output_type": "execute_result"
    }
   ],
   "source": [
    "mapper.head()"
   ]
  },
  {
   "cell_type": "code",
   "execution_count": 6,
   "metadata": {},
   "outputs": [
    {
     "data": {
      "text/html": [
       "<div>\n",
       "<style scoped>\n",
       "    .dataframe tbody tr th:only-of-type {\n",
       "        vertical-align: middle;\n",
       "    }\n",
       "\n",
       "    .dataframe tbody tr th {\n",
       "        vertical-align: top;\n",
       "    }\n",
       "\n",
       "    .dataframe thead th {\n",
       "        text-align: right;\n",
       "    }\n",
       "</style>\n",
       "<table border=\"1\" class=\"dataframe\">\n",
       "  <thead>\n",
       "    <tr style=\"text-align: right;\">\n",
       "      <th></th>\n",
       "      <th>comicID</th>\n",
       "      <th>issueNumber</th>\n",
       "    </tr>\n",
       "  </thead>\n",
       "  <tbody>\n",
       "    <tr>\n",
       "      <th>count</th>\n",
       "      <td>41078.000000</td>\n",
       "      <td>41078.000000</td>\n",
       "    </tr>\n",
       "    <tr>\n",
       "      <th>mean</th>\n",
       "      <td>30827.915380</td>\n",
       "      <td>53.855046</td>\n",
       "    </tr>\n",
       "    <tr>\n",
       "      <th>std</th>\n",
       "      <td>20094.238412</td>\n",
       "      <td>165.217879</td>\n",
       "    </tr>\n",
       "    <tr>\n",
       "      <th>min</th>\n",
       "      <td>2.000000</td>\n",
       "      <td>-1.000000</td>\n",
       "    </tr>\n",
       "    <tr>\n",
       "      <th>25%</th>\n",
       "      <td>13144.250000</td>\n",
       "      <td>1.000000</td>\n",
       "    </tr>\n",
       "    <tr>\n",
       "      <th>50%</th>\n",
       "      <td>26915.500000</td>\n",
       "      <td>7.000000</td>\n",
       "    </tr>\n",
       "    <tr>\n",
       "      <th>75%</th>\n",
       "      <td>49261.750000</td>\n",
       "      <td>36.000000</td>\n",
       "    </tr>\n",
       "    <tr>\n",
       "      <th>max</th>\n",
       "      <td>73980.000000</td>\n",
       "      <td>16584.000000</td>\n",
       "    </tr>\n",
       "  </tbody>\n",
       "</table>\n",
       "</div>"
      ],
      "text/plain": [
       "            comicID   issueNumber\n",
       "count  41078.000000  41078.000000\n",
       "mean   30827.915380     53.855046\n",
       "std    20094.238412    165.217879\n",
       "min        2.000000     -1.000000\n",
       "25%    13144.250000      1.000000\n",
       "50%    26915.500000      7.000000\n",
       "75%    49261.750000     36.000000\n",
       "max    73980.000000  16584.000000"
      ]
     },
     "execution_count": 6,
     "metadata": {},
     "output_type": "execute_result"
    }
   ],
   "source": [
    "comics.describe()"
   ]
  },
  {
   "cell_type": "code",
   "execution_count": 7,
   "metadata": {},
   "outputs": [
    {
     "data": {
      "text/html": [
       "<div>\n",
       "<style scoped>\n",
       "    .dataframe tbody tr th:only-of-type {\n",
       "        vertical-align: middle;\n",
       "    }\n",
       "\n",
       "    .dataframe tbody tr th {\n",
       "        vertical-align: top;\n",
       "    }\n",
       "\n",
       "    .dataframe thead th {\n",
       "        text-align: right;\n",
       "    }\n",
       "</style>\n",
       "<table border=\"1\" class=\"dataframe\">\n",
       "  <thead>\n",
       "    <tr style=\"text-align: right;\">\n",
       "      <th></th>\n",
       "      <th>characterID</th>\n",
       "    </tr>\n",
       "  </thead>\n",
       "  <tbody>\n",
       "    <tr>\n",
       "      <th>count</th>\n",
       "      <td>1.170000e+03</td>\n",
       "    </tr>\n",
       "    <tr>\n",
       "      <th>mean</th>\n",
       "      <td>1.010507e+06</td>\n",
       "    </tr>\n",
       "    <tr>\n",
       "      <th>std</th>\n",
       "      <td>1.289773e+03</td>\n",
       "    </tr>\n",
       "    <tr>\n",
       "      <th>min</th>\n",
       "      <td>1.009144e+06</td>\n",
       "    </tr>\n",
       "    <tr>\n",
       "      <th>25%</th>\n",
       "      <td>1.009495e+06</td>\n",
       "    </tr>\n",
       "    <tr>\n",
       "      <th>50%</th>\n",
       "      <td>1.010724e+06</td>\n",
       "    </tr>\n",
       "    <tr>\n",
       "      <th>75%</th>\n",
       "      <td>1.011086e+06</td>\n",
       "    </tr>\n",
       "    <tr>\n",
       "      <th>max</th>\n",
       "      <td>1.017583e+06</td>\n",
       "    </tr>\n",
       "  </tbody>\n",
       "</table>\n",
       "</div>"
      ],
      "text/plain": [
       "        characterID\n",
       "count  1.170000e+03\n",
       "mean   1.010507e+06\n",
       "std    1.289773e+03\n",
       "min    1.009144e+06\n",
       "25%    1.009495e+06\n",
       "50%    1.010724e+06\n",
       "75%    1.011086e+06\n",
       "max    1.017583e+06"
      ]
     },
     "execution_count": 7,
     "metadata": {},
     "output_type": "execute_result"
    }
   ],
   "source": [
    "characters.describe()"
   ]
  },
  {
   "cell_type": "markdown",
   "metadata": {},
   "source": [
    "I will be using https://www.cbr.com/mcu-all-marvel-characters-movies/ to identify all of the characters used in the movies. This article was published in 2021, so I will be updating a few to account for any content that has come out since then."
   ]
  },
  {
   "cell_type": "code",
   "execution_count": 8,
   "metadata": {},
   "outputs": [],
   "source": [
    "mcu_character_appearances = {\n",
    "    'Dormammu': ['Doctor Strange'],\n",
    "    'Ronan': ['Guardians of the Galaxy','Captain Marvel'],\n",
    "    'Crossbones':['Captain America: The Winter Soldier','Captain America: Civil War','Avengers: Endgame'],\n",
    "    'Zemo':['Captain America: Civil War','The Falcon and The Winter Soldier'],\n",
    "    \"Baron Zemo (Heinrich Zemo)\":['Captain America: Civil War','The Falcon and The Winter Soldier'],\n",
    "    \"Baron Zemo (Helmut Zemo)\":['Captain America: Civil War','The Falcon and The Winter Soldier'],\n",
    "    'Arnim Zola':['Captain America: The First Avenger','Captain America: The Winter Soldier'],\n",
    "    'Wong':['Doctor Strange','Doctor Strange in the Multiverse of Madness','Spider-Man: No Way Home','Shang-Chi','She-Hulk','Avengers: Infinity War','Avengers: Endgame'],\n",
    "    'Maria Hill':['The Avengers','Captain America: The Winter Soldier','Avengers: Age of Ultron','Avengers: Infinity War'],\n",
    "    'Justin Hammer':['Iron Man 2'],\n",
    "    'Ultron':['Avengers: Age of Ultron'],\n",
    "    'Mantis':['Guardians of the Galaxy Vol. 2','Avengers: Infinity War'],\n",
    "    'Red Skull':['Captain America: The First Avenger'],\n",
    "    'Abomination (Emil Blonsky)' : ['The Incredible Hulk'],\n",
    "    'Thaddeus Ross' : ['The Incredible Hulk','Captain America: Civil War','Avengers: Infinity War'],\n",
    "    'Vulture (Adrian Toomes)' : ['Spider-Man: Homecoming'],\n",
    "    'Mysterio':['Spider-Man: Far From Home'],\n",
    "    'Vision': ['Avengers: Age of Ultron','Captain America: Civil War','Avengers: Infinity War', 'WandaVision'],\n",
    "    'Odin':['Thor','Thor: The Dark World','Thor: Ragnarok'],\n",
    "    'Groot': ['Guardians of the Galaxy','Guardians of the Galaxy Vol. 2','Avengers: Infinity War'],\n",
    "    'Nebula':['Guardians of the Galaxy','Guardians of the Galaxy Vol. 2','Avengers: Infinity War','Avengers: Endgame'],\n",
    "    'Scarlet Witch':['Avengers: Age of Ultron','Captain America: Civil War','Avengers: Infinity War', 'WandaVision', 'Doctor Strange in the Multiverse of Madness'],\n",
    "    'Wiccan':['WandaVision', 'Doctor Strange in the Multiverse of Madness'],\n",
    "    'Speed':['WandaVision', 'Doctor Strange in the Multiverse of Madness'],\n",
    "    'Falcon':['Captain America: The Winter Soldier','Captain America: Civil War','Avengers: Infinity War','The Falcon and The Winter Soldier'],\n",
    "    'Guardians of the Galaxy':['Guardians of the Galaxy','Guardians of the Galaxy Vol. 2','Avengers: Infinity War'],\n",
    "    'Avengers': ['The Avengers','Avengers: Age of Ultron','Avengers: Infinity War','Avengers: Endgame','Captain America: Civil War'],\n",
    "    'Drax':['Guardians of the Galaxy','Guardians of the Galaxy Vol. 2','Avengers: Infinity War'],\n",
    "    'Thanos':['Avengers: Infinity War','Avengers: Endgame'],\n",
    "    'Jane Foster':['Thor','Thor: The Dark World','Thor: Love and Thunder'],\n",
    "    'Thor (Goddess of Thunder)': ['Thor: Love and Thunder'],\n",
    "    'Winter Soldier': ['Captain America: The First Avenger', \"Captain America: The Winter Soldier\", 'Captain America: Civil War', 'Avengers: Infinity War','The Falcon and The Winter Soldier'],\n",
    "    'Patriot':['The Falcon and The Winter Soldier'],\n",
    "    'Hank Pym': ['Ant Man', 'Ant Man and the Wasp'],\n",
    "    'Ant-Man (Scott Lang)': ['Ant Man', 'Ant Man and the Wasp', 'Captain America: Civil War', 'Avengers: Endgame'],\n",
    "    'Hawkeye': ['The Avengers','Avengers: Age of Ultron','Avengers: Infinity War','Avengers: Endgame','Captain America: Civil War', 'Hawkeye'],\n",
    "    \"Clint Barton\": ['The Avengers','Avengers: Age of Ultron','Avengers: Infinity War','Avengers: Endgame','Captain America: Civil War', 'Hawkeye'],\n",
    "    'Hawkeye (Kate Bishop)':['Hawkeye'],\n",
    "    'Wasp': ['Ant Man', 'Ant Man and the Wasp'],\n",
    "    'Rhodey':['Iron Man','Iron Man 2','Iron Man 3','Captain America: Civil War', 'Avengers: Infinity War'],\n",
    "    \"T'Challa\" :['Black Panther','Captain America: Civil War', 'Avengers: Infinity War'],\n",
    "    \"Black Panther\":['Black Panther','Captain America: Civil War', 'Avengers: Infinity War'],\n",
    "    \"Pepper Potts\":['Iron Man', 'Iron Man 2','Iron Man 3', 'Avengers: Endgame'],\n",
    "    'Captain Marvel (Carol Danvers)':['Captain Marvel','Avengers: Endgame'],\n",
    "    'Carol Danvers':['Captain Marvel','Avengers: Endgame'],\n",
    "    'Captain America': ['Captain America: The First Avenger','Captain America: The Winter Soldier','Captain America: Civil War', 'The Avengers','Avengers: Age of Ultron','Avengers: Infinity War','Avengers: Endgame'],\n",
    "    \"Steve Rogers\": ['Captain America: The First Avenger','Captain America: The Winter Soldier','Captain America: Civil War', 'The Avengers','Avengers: Age of Ultron','Avengers: Infinity War','Avengers: Endgame'],\n",
    "    'Captain America (Sam Wilson)': ['Captain America: The Winter Soldier','Captain America: Civil War','Avengers: Infinity War','The Falcon and The Winter Soldier'],\n",
    "    'Gamora':['Guardians of the Galaxy','Guardians of the Galaxy Vol. 2','Avengers: Infinity War'],\n",
    "    'Rocket Raccoon':['Guardians of the Galaxy','Guardians of the Galaxy Vol. 2','Avengers: Infinity War'],\n",
    "    'Star-Lord (Peter Quill)':['Guardians of the Galaxy','Guardians of the Galaxy Vol. 2','Avengers: Infinity War'],\n",
    "    'Peter Quill':['Guardians of the Galaxy','Guardians of the Galaxy Vol. 2','Avengers: Infinity War'],\n",
    "    'Loki':['Thor','The Avengers','Thor: The Dark World','Thor: Ragnarok','Loki'],\n",
    "    'Doctor Strange':['Doctor Strange','Doctor Strange in the Multiverse of Madness','Spider-Man: No Way Home','Avengers: Infinity War'],\n",
    "    'Stephen Strange':['Doctor Strange','Doctor Strange in the Multiverse of Madness','Spider-Man: No Way Home','Avengers: Infinity War'],\n",
    "    \"Black Widow\": ['Iron Man 2', 'The Avengers', \"Captain America: The Winter Soldier\",\"Avengers: Age of Ultron\",\"Avengers: Infinity War\",'Avengers: Endgame',\"Black Widow\"],\n",
    "    \"Natasha Romanoff\": ['Iron Man 2', 'The Avengers', \"Captain America: The Winter Soldier\",\"Avengers: Age of Ultron\",\"Avengers: Infinity War\",'Avengers: Endgame',\"Black Widow\"],\n",
    "    \"Bruce Banner\":['The Incredible Hulk','The Avengers','Avengers: Age of Ultron','Thor: Ragnarok','Avengers: Infinity War', 'Avengers: Endgame','She-Hulk'],\n",
    "    \"Hulk\":['The Incredible Hulk','The Avengers','Avengers: Age of Ultron','Thor: Ragnarok','Avengers: Infinity War', 'Avengers: Endgame','She-Hulk'],\n",
    "    \"She-Hulk (Jennifer Walters)\":['She-Hulk'],\n",
    "    \"Peter Parker\":['Spider-Man: Homecoming','Spider-Man: Far From Home','Spider-Man: No Way Home','Captain America: Civil War'],\n",
    "    \"Spider-Man\":['Spider-Man: Homecoming','Spider-Man: Far From Home','Spider-Man: No Way Home','Captain America: Civil War'],\n",
    "    \"Thor\":['Thor','Thor: The Dark World','Thor: Ragnarok', \"Thor: Love and Thunder\",'The Avengers','Avengers: Age of Ultron','Avengers: Infinity War','Avengers: Endgame','Captain America: Civil War'],\n",
    "    \"Young Avengers\":['WandaVision','Hawkeye','The Falcon and The Winter Soldier', 'Doctor Strange in the Multiverse of Madness'],\n",
    "    \"Iron Man\": ['Iron Man','Iron Man 2',\"Iron Man 3\",'The Avengers','Avengers: Age of Ultron','Avengers: Infinity War','Avengers: Endgame','Captain America: Civil War','Spider-Man: Homecoming'],\n",
    "    \"Tony Stark\":['Iron Man','Iron Man 2',\"Iron Man 3\",'The Avengers','Avengers: Age of Ultron','Avengers: Infinity War','Avengers: Endgame','Captain America: Civil War','Spider-Man: Homecoming'],\n",
    "    \"Ms. Marvel (Kamala Khan)\": ['Ms. Marvel'],\n",
    "    \"Moon Knight\":[\"Moon Knight\"],\n",
    "    \"Shang-Chi\":['Shang-Chi'],\n",
    "    \"Sharon Carter\":['Captain America: The Winter Soldier','Captain America: Civil War','The Falcon and The Winter Soldier'],\n",
    "    \"Lizard\":['Spider-Man: No Way Home'],\n",
    "    \"Ego\":['Guardians of the Galaxy Vol. 2'],\n",
    "    \"J. Jonah Jameson\": ['Spider-Man: No Way Home'],\n",
    "    \"A.I.M.\":[\"Iron Man 3\"],\n",
    "    \"Batroc the Leaper\":['Captain America: The Winter Soldier',\"The Falcon and The Winter Soldier\"],\n",
    "    \"Iron Patriot (James Rhodes)\":['Iron Man 2','Iron Man 3', 'Captain America: Civil War','Avengers: Infinity War'],\n",
    "    \"U.S. Agent\":['The Falcon and The Winter Soldier'],\n",
    "    \"Sif\":['Thor',\"Thor: The Dark World\",\"Thor: Love and Thunder\",\"Loki\"],\n",
    "    \"Kang\":['Loki'],\n",
    "    \"Miss America\":['Doctor Strange in the Multiverse of Madness'],\n",
    "    \"Shocker (Herman Schultz)\": ['Spider-Man: No Way Home'],\n",
    "    \"Curt Conners\":['Spider-Man: No Way Home'],\n",
    "    \"Dum Dum Dugan\":['Captain America: The First Avenger'],\n",
    "    \"S.H.I.E.L.D.\": ['Captain America: The Winter Soldier','The Avengers'],\n",
    "    \"Eternals\":[\"The Eternals\"],\n",
    "    \"Enchantress (Sylvie Lushton)\":[\"Loki\"],\n",
    "    \"The Howling Commandos\":['Captain America: The First Avenger'],\n",
    "    \"Obadiah Stane\":['Iron Man'],\n",
    "    \"Kate Bishop\":['Hawkeye'],\n",
    "\n",
    "}"
   ]
  },
  {
   "cell_type": "code",
   "execution_count": 9,
   "metadata": {},
   "outputs": [],
   "source": [
    "mcu_years = {'Spider-Man: No Way Home':2021, 'Avengers: Age of Ultron': 2015,\n",
    "       'Ant Man and the Wasp':2018, 'WandaVision':2020, 'Thor: Love and Thunder':2022,\n",
    "       'Ant Man':2015, 'Thor: The Dark World':2013, 'Spider-Man: Homecoming':2017, 'Loki':2020,\n",
    "       'The Avengers':2012, 'Avengers: Endgame':2019, 'The Eternals':2021, 'Iron Man':2008,\n",
    "       'Captain America: Civil War':2016, 'Avengers: Infinity War':2018,\n",
    "       'Spider-Man: Far From Home':2019, 'Doctor Strange':2016,\n",
    "       'The Falcon and The Winter Soldier': 2020, 'Spider-Man: Homecoming':2017,\n",
    "       'Shang-Chi':2021, 'Black Widow':2021,\n",
    "       'Doctor Strange in the Multiverse of Madness':2022,\n",
    "       'Guardians of the Galaxy':2014, 'Thor: Ragnarok':2017, 'She-Hulk':2022,\n",
    "       'Black Panther':2018, 'The Incredible Hulk':2010,\n",
    "       'Captain America: The First Avenger':2011, 'Thor':2011, 'Moon Knight':2022,\n",
    "       'Iron Man 3':2013, 'Guardians of the Galaxy Vol. 2':2017, 'Hawkeye':2021,\n",
    "       'Captain America: The Winter Soldier':2013, 'Captain Marvel':2019, 'Iron Man 2':2010,\n",
    "       'Ms. Marvel':2020}"
   ]
  },
  {
   "cell_type": "code",
   "execution_count": 10,
   "metadata": {},
   "outputs": [],
   "source": [
    "mcu_char = list(mcu_character_appearances.keys())\n",
    "movies = list(set(np.concatenate([x for x in mcu_character_appearances.values()])))\n",
    "mcu_df = pd.DataFrame(columns=movies, index=mcu_char)\n",
    "\n",
    "for i,row in mcu_df.iterrows():\n",
    "    for movie in movies:\n",
    "        mcu_df.loc[i, movie] = True if movie in mcu_character_appearances[i] else False\n",
    "mcu_df = mcu_df.T"
   ]
  },
  {
   "cell_type": "code",
   "execution_count": 11,
   "metadata": {},
   "outputs": [
    {
     "data": {
      "text/html": [
       "<div>\n",
       "<style scoped>\n",
       "    .dataframe tbody tr th:only-of-type {\n",
       "        vertical-align: middle;\n",
       "    }\n",
       "\n",
       "    .dataframe tbody tr th {\n",
       "        vertical-align: top;\n",
       "    }\n",
       "\n",
       "    .dataframe thead th {\n",
       "        text-align: right;\n",
       "    }\n",
       "</style>\n",
       "<table border=\"1\" class=\"dataframe\">\n",
       "  <thead>\n",
       "    <tr style=\"text-align: right;\">\n",
       "      <th></th>\n",
       "      <th>Dormammu</th>\n",
       "      <th>Ronan</th>\n",
       "      <th>Crossbones</th>\n",
       "      <th>Zemo</th>\n",
       "      <th>Baron Zemo (Heinrich Zemo)</th>\n",
       "      <th>Baron Zemo (Helmut Zemo)</th>\n",
       "      <th>Arnim Zola</th>\n",
       "      <th>Wong</th>\n",
       "      <th>Maria Hill</th>\n",
       "      <th>Justin Hammer</th>\n",
       "      <th>...</th>\n",
       "      <th>Miss America</th>\n",
       "      <th>Shocker (Herman Schultz)</th>\n",
       "      <th>Curt Conners</th>\n",
       "      <th>Dum Dum Dugan</th>\n",
       "      <th>S.H.I.E.L.D.</th>\n",
       "      <th>Eternals</th>\n",
       "      <th>Enchantress (Sylvie Lushton)</th>\n",
       "      <th>The Howling Commandos</th>\n",
       "      <th>Obadiah Stane</th>\n",
       "      <th>Kate Bishop</th>\n",
       "    </tr>\n",
       "  </thead>\n",
       "  <tbody>\n",
       "    <tr>\n",
       "      <th>Avengers: Infinity War</th>\n",
       "      <td>False</td>\n",
       "      <td>False</td>\n",
       "      <td>False</td>\n",
       "      <td>False</td>\n",
       "      <td>False</td>\n",
       "      <td>False</td>\n",
       "      <td>False</td>\n",
       "      <td>True</td>\n",
       "      <td>True</td>\n",
       "      <td>False</td>\n",
       "      <td>...</td>\n",
       "      <td>False</td>\n",
       "      <td>False</td>\n",
       "      <td>False</td>\n",
       "      <td>False</td>\n",
       "      <td>False</td>\n",
       "      <td>False</td>\n",
       "      <td>False</td>\n",
       "      <td>False</td>\n",
       "      <td>False</td>\n",
       "      <td>False</td>\n",
       "    </tr>\n",
       "    <tr>\n",
       "      <th>Doctor Strange</th>\n",
       "      <td>True</td>\n",
       "      <td>False</td>\n",
       "      <td>False</td>\n",
       "      <td>False</td>\n",
       "      <td>False</td>\n",
       "      <td>False</td>\n",
       "      <td>False</td>\n",
       "      <td>True</td>\n",
       "      <td>False</td>\n",
       "      <td>False</td>\n",
       "      <td>...</td>\n",
       "      <td>False</td>\n",
       "      <td>False</td>\n",
       "      <td>False</td>\n",
       "      <td>False</td>\n",
       "      <td>False</td>\n",
       "      <td>False</td>\n",
       "      <td>False</td>\n",
       "      <td>False</td>\n",
       "      <td>False</td>\n",
       "      <td>False</td>\n",
       "    </tr>\n",
       "    <tr>\n",
       "      <th>Ant Man</th>\n",
       "      <td>False</td>\n",
       "      <td>False</td>\n",
       "      <td>False</td>\n",
       "      <td>False</td>\n",
       "      <td>False</td>\n",
       "      <td>False</td>\n",
       "      <td>False</td>\n",
       "      <td>False</td>\n",
       "      <td>False</td>\n",
       "      <td>False</td>\n",
       "      <td>...</td>\n",
       "      <td>False</td>\n",
       "      <td>False</td>\n",
       "      <td>False</td>\n",
       "      <td>False</td>\n",
       "      <td>False</td>\n",
       "      <td>False</td>\n",
       "      <td>False</td>\n",
       "      <td>False</td>\n",
       "      <td>False</td>\n",
       "      <td>False</td>\n",
       "    </tr>\n",
       "    <tr>\n",
       "      <th>Ant Man and the Wasp</th>\n",
       "      <td>False</td>\n",
       "      <td>False</td>\n",
       "      <td>False</td>\n",
       "      <td>False</td>\n",
       "      <td>False</td>\n",
       "      <td>False</td>\n",
       "      <td>False</td>\n",
       "      <td>False</td>\n",
       "      <td>False</td>\n",
       "      <td>False</td>\n",
       "      <td>...</td>\n",
       "      <td>False</td>\n",
       "      <td>False</td>\n",
       "      <td>False</td>\n",
       "      <td>False</td>\n",
       "      <td>False</td>\n",
       "      <td>False</td>\n",
       "      <td>False</td>\n",
       "      <td>False</td>\n",
       "      <td>False</td>\n",
       "      <td>False</td>\n",
       "    </tr>\n",
       "    <tr>\n",
       "      <th>Iron Man 3</th>\n",
       "      <td>False</td>\n",
       "      <td>False</td>\n",
       "      <td>False</td>\n",
       "      <td>False</td>\n",
       "      <td>False</td>\n",
       "      <td>False</td>\n",
       "      <td>False</td>\n",
       "      <td>False</td>\n",
       "      <td>False</td>\n",
       "      <td>False</td>\n",
       "      <td>...</td>\n",
       "      <td>False</td>\n",
       "      <td>False</td>\n",
       "      <td>False</td>\n",
       "      <td>False</td>\n",
       "      <td>False</td>\n",
       "      <td>False</td>\n",
       "      <td>False</td>\n",
       "      <td>False</td>\n",
       "      <td>False</td>\n",
       "      <td>False</td>\n",
       "    </tr>\n",
       "  </tbody>\n",
       "</table>\n",
       "<p>5 rows × 89 columns</p>\n",
       "</div>"
      ],
      "text/plain": [
       "                       Dormammu  Ronan Crossbones   Zemo  \\\n",
       "Avengers: Infinity War    False  False      False  False   \n",
       "Doctor Strange             True  False      False  False   \n",
       "Ant Man                   False  False      False  False   \n",
       "Ant Man and the Wasp      False  False      False  False   \n",
       "Iron Man 3                False  False      False  False   \n",
       "\n",
       "                       Baron Zemo (Heinrich Zemo) Baron Zemo (Helmut Zemo)  \\\n",
       "Avengers: Infinity War                      False                    False   \n",
       "Doctor Strange                              False                    False   \n",
       "Ant Man                                     False                    False   \n",
       "Ant Man and the Wasp                        False                    False   \n",
       "Iron Man 3                                  False                    False   \n",
       "\n",
       "                       Arnim Zola   Wong Maria Hill Justin Hammer  ...  \\\n",
       "Avengers: Infinity War      False   True       True         False  ...   \n",
       "Doctor Strange              False   True      False         False  ...   \n",
       "Ant Man                     False  False      False         False  ...   \n",
       "Ant Man and the Wasp        False  False      False         False  ...   \n",
       "Iron Man 3                  False  False      False         False  ...   \n",
       "\n",
       "                       Miss America Shocker (Herman Schultz) Curt Conners  \\\n",
       "Avengers: Infinity War        False                    False        False   \n",
       "Doctor Strange                False                    False        False   \n",
       "Ant Man                       False                    False        False   \n",
       "Ant Man and the Wasp          False                    False        False   \n",
       "Iron Man 3                    False                    False        False   \n",
       "\n",
       "                       Dum Dum Dugan S.H.I.E.L.D. Eternals  \\\n",
       "Avengers: Infinity War         False        False    False   \n",
       "Doctor Strange                 False        False    False   \n",
       "Ant Man                        False        False    False   \n",
       "Ant Man and the Wasp           False        False    False   \n",
       "Iron Man 3                     False        False    False   \n",
       "\n",
       "                       Enchantress (Sylvie Lushton) The Howling Commandos  \\\n",
       "Avengers: Infinity War                        False                 False   \n",
       "Doctor Strange                                False                 False   \n",
       "Ant Man                                       False                 False   \n",
       "Ant Man and the Wasp                          False                 False   \n",
       "Iron Man 3                                    False                 False   \n",
       "\n",
       "                       Obadiah Stane Kate Bishop  \n",
       "Avengers: Infinity War         False       False  \n",
       "Doctor Strange                 False       False  \n",
       "Ant Man                        False       False  \n",
       "Ant Man and the Wasp           False       False  \n",
       "Iron Man 3                     False       False  \n",
       "\n",
       "[5 rows x 89 columns]"
      ]
     },
     "execution_count": 11,
     "metadata": {},
     "output_type": "execute_result"
    }
   ],
   "source": [
    "\n",
    "mcu_df.head()"
   ]
  },
  {
   "cell_type": "code",
   "execution_count": 12,
   "metadata": {},
   "outputs": [],
   "source": [
    "mcu_df['year'] = mcu_df.index.map(mcu_years)"
   ]
  },
  {
   "cell_type": "markdown",
   "metadata": {},
   "source": [
    "# Truncate Character DF"
   ]
  },
  {
   "cell_type": "code",
   "execution_count": 13,
   "metadata": {},
   "outputs": [
    {
     "data": {
      "text/html": [
       "<div>\n",
       "<style scoped>\n",
       "    .dataframe tbody tr th:only-of-type {\n",
       "        vertical-align: middle;\n",
       "    }\n",
       "\n",
       "    .dataframe tbody tr th {\n",
       "        vertical-align: top;\n",
       "    }\n",
       "\n",
       "    .dataframe thead th {\n",
       "        text-align: right;\n",
       "    }\n",
       "</style>\n",
       "<table border=\"1\" class=\"dataframe\">\n",
       "  <thead>\n",
       "    <tr style=\"text-align: right;\">\n",
       "      <th></th>\n",
       "      <th>characterID</th>\n",
       "      <th>name</th>\n",
       "    </tr>\n",
       "  </thead>\n",
       "  <tbody>\n",
       "    <tr>\n",
       "      <th>0</th>\n",
       "      <td>1009220</td>\n",
       "      <td>Captain America</td>\n",
       "    </tr>\n",
       "    <tr>\n",
       "      <th>1</th>\n",
       "      <td>1010740</td>\n",
       "      <td>Winter Soldier</td>\n",
       "    </tr>\n",
       "    <tr>\n",
       "      <th>2</th>\n",
       "      <td>1009471</td>\n",
       "      <td>Nick Fury</td>\n",
       "    </tr>\n",
       "    <tr>\n",
       "      <th>3</th>\n",
       "      <td>1009552</td>\n",
       "      <td>S.H.I.E.L.D.</td>\n",
       "    </tr>\n",
       "    <tr>\n",
       "      <th>4</th>\n",
       "      <td>1009228</td>\n",
       "      <td>Sharon Carter</td>\n",
       "    </tr>\n",
       "  </tbody>\n",
       "</table>\n",
       "</div>"
      ],
      "text/plain": [
       "   characterID             name\n",
       "0      1009220  Captain America\n",
       "1      1010740   Winter Soldier\n",
       "2      1009471        Nick Fury\n",
       "3      1009552     S.H.I.E.L.D.\n",
       "4      1009228    Sharon Carter"
      ]
     },
     "execution_count": 13,
     "metadata": {},
     "output_type": "execute_result"
    }
   ],
   "source": [
    "characters.head()"
   ]
  },
  {
   "cell_type": "code",
   "execution_count": 14,
   "metadata": {},
   "outputs": [
    {
     "data": {
      "text/html": [
       "<div>\n",
       "<style scoped>\n",
       "    .dataframe tbody tr th:only-of-type {\n",
       "        vertical-align: middle;\n",
       "    }\n",
       "\n",
       "    .dataframe tbody tr th {\n",
       "        vertical-align: top;\n",
       "    }\n",
       "\n",
       "    .dataframe thead th {\n",
       "        text-align: right;\n",
       "    }\n",
       "</style>\n",
       "<table border=\"1\" class=\"dataframe\">\n",
       "  <thead>\n",
       "    <tr style=\"text-align: right;\">\n",
       "      <th></th>\n",
       "      <th>characterID</th>\n",
       "      <th>name</th>\n",
       "    </tr>\n",
       "  </thead>\n",
       "  <tbody>\n",
       "    <tr>\n",
       "      <th>0</th>\n",
       "      <td>1009220</td>\n",
       "      <td>Captain America</td>\n",
       "    </tr>\n",
       "    <tr>\n",
       "      <th>1</th>\n",
       "      <td>1010740</td>\n",
       "      <td>Winter Soldier</td>\n",
       "    </tr>\n",
       "    <tr>\n",
       "      <th>3</th>\n",
       "      <td>1009552</td>\n",
       "      <td>S.H.I.E.L.D.</td>\n",
       "    </tr>\n",
       "    <tr>\n",
       "      <th>4</th>\n",
       "      <td>1009228</td>\n",
       "      <td>Sharon Carter</td>\n",
       "    </tr>\n",
       "    <tr>\n",
       "      <th>6</th>\n",
       "      <td>1010808</td>\n",
       "      <td>Hawkeye (Kate Bishop)</td>\n",
       "    </tr>\n",
       "  </tbody>\n",
       "</table>\n",
       "</div>"
      ],
      "text/plain": [
       "   characterID                   name\n",
       "0      1009220        Captain America\n",
       "1      1010740         Winter Soldier\n",
       "3      1009552           S.H.I.E.L.D.\n",
       "4      1009228          Sharon Carter\n",
       "6      1010808  Hawkeye (Kate Bishop)"
      ]
     },
     "execution_count": 14,
     "metadata": {},
     "output_type": "execute_result"
    }
   ],
   "source": [
    "characters = characters[characters.name.isin(mcu_char)]\n",
    "characters.head()"
   ]
  },
  {
   "cell_type": "markdown",
   "metadata": {},
   "source": [
    "# Clean Mapper"
   ]
  },
  {
   "cell_type": "code",
   "execution_count": 15,
   "metadata": {},
   "outputs": [
    {
     "data": {
      "text/html": [
       "<div>\n",
       "<style scoped>\n",
       "    .dataframe tbody tr th:only-of-type {\n",
       "        vertical-align: middle;\n",
       "    }\n",
       "\n",
       "    .dataframe tbody tr th {\n",
       "        vertical-align: top;\n",
       "    }\n",
       "\n",
       "    .dataframe thead th {\n",
       "        text-align: right;\n",
       "    }\n",
       "</style>\n",
       "<table border=\"1\" class=\"dataframe\">\n",
       "  <thead>\n",
       "    <tr style=\"text-align: right;\">\n",
       "      <th></th>\n",
       "      <th>comicID</th>\n",
       "      <th>characterID</th>\n",
       "    </tr>\n",
       "  </thead>\n",
       "  <tbody>\n",
       "    <tr>\n",
       "      <th>0</th>\n",
       "      <td>16232</td>\n",
       "      <td>1009220</td>\n",
       "    </tr>\n",
       "    <tr>\n",
       "      <th>1</th>\n",
       "      <td>16232</td>\n",
       "      <td>1010740</td>\n",
       "    </tr>\n",
       "    <tr>\n",
       "      <th>2</th>\n",
       "      <td>16248</td>\n",
       "      <td>1009220</td>\n",
       "    </tr>\n",
       "    <tr>\n",
       "      <th>4</th>\n",
       "      <td>16248</td>\n",
       "      <td>1009552</td>\n",
       "    </tr>\n",
       "    <tr>\n",
       "      <th>5</th>\n",
       "      <td>16248</td>\n",
       "      <td>1009228</td>\n",
       "    </tr>\n",
       "  </tbody>\n",
       "</table>\n",
       "</div>"
      ],
      "text/plain": [
       "   comicID  characterID\n",
       "0    16232      1009220\n",
       "1    16232      1010740\n",
       "2    16248      1009220\n",
       "4    16248      1009552\n",
       "5    16248      1009228"
      ]
     },
     "execution_count": 15,
     "metadata": {},
     "output_type": "execute_result"
    }
   ],
   "source": [
    "mapper = mapper[mapper.characterID.isin(characters.characterID)]\n",
    "mapper.head()"
   ]
  },
  {
   "cell_type": "markdown",
   "metadata": {},
   "source": [
    "# Clean Comics"
   ]
  },
  {
   "cell_type": "code",
   "execution_count": 16,
   "metadata": {},
   "outputs": [
    {
     "data": {
      "text/html": [
       "<div>\n",
       "<style scoped>\n",
       "    .dataframe tbody tr th:only-of-type {\n",
       "        vertical-align: middle;\n",
       "    }\n",
       "\n",
       "    .dataframe tbody tr th {\n",
       "        vertical-align: top;\n",
       "    }\n",
       "\n",
       "    .dataframe thead th {\n",
       "        text-align: right;\n",
       "    }\n",
       "</style>\n",
       "<table border=\"1\" class=\"dataframe\">\n",
       "  <thead>\n",
       "    <tr style=\"text-align: right;\">\n",
       "      <th></th>\n",
       "      <th>comicID</th>\n",
       "      <th>title</th>\n",
       "      <th>issueNumber</th>\n",
       "      <th>description</th>\n",
       "    </tr>\n",
       "  </thead>\n",
       "  <tbody>\n",
       "    <tr>\n",
       "      <th>0</th>\n",
       "      <td>16232</td>\n",
       "      <td>Cap Transport (2005) #12</td>\n",
       "      <td>12.0</td>\n",
       "      <td>NaN</td>\n",
       "    </tr>\n",
       "    <tr>\n",
       "      <th>1</th>\n",
       "      <td>16248</td>\n",
       "      <td>Cap Transport (2005) #9</td>\n",
       "      <td>9.0</td>\n",
       "      <td>NaN</td>\n",
       "    </tr>\n",
       "    <tr>\n",
       "      <th>4</th>\n",
       "      <td>58634</td>\n",
       "      <td>A Year of Marvels: The Incredible (2016) #5</td>\n",
       "      <td>5.0</td>\n",
       "      <td>It’s Halloween in the Marvel U! What does that...</td>\n",
       "    </tr>\n",
       "    <tr>\n",
       "      <th>7</th>\n",
       "      <td>16241</td>\n",
       "      <td>Cap Transport (2005) #20</td>\n",
       "      <td>20.0</td>\n",
       "      <td>NaN</td>\n",
       "    </tr>\n",
       "    <tr>\n",
       "      <th>15</th>\n",
       "      <td>16234</td>\n",
       "      <td>Cap Transport (2005) #14</td>\n",
       "      <td>14.0</td>\n",
       "      <td>NaN</td>\n",
       "    </tr>\n",
       "  </tbody>\n",
       "</table>\n",
       "</div>"
      ],
      "text/plain": [
       "    comicID                                        title  issueNumber  \\\n",
       "0     16232                     Cap Transport (2005) #12         12.0   \n",
       "1     16248                      Cap Transport (2005) #9          9.0   \n",
       "4     58634  A Year of Marvels: The Incredible (2016) #5          5.0   \n",
       "7     16241                     Cap Transport (2005) #20         20.0   \n",
       "15    16234                     Cap Transport (2005) #14         14.0   \n",
       "\n",
       "                                          description  \n",
       "0                                                 NaN  \n",
       "1                                                 NaN  \n",
       "4   It’s Halloween in the Marvel U! What does that...  \n",
       "7                                                 NaN  \n",
       "15                                                NaN  "
      ]
     },
     "execution_count": 16,
     "metadata": {},
     "output_type": "execute_result"
    }
   ],
   "source": [
    "comics = comics[comics.comicID.isin(mapper.comicID)]\n",
    "comics.head()"
   ]
  },
  {
   "cell_type": "code",
   "execution_count": 17,
   "metadata": {},
   "outputs": [],
   "source": [
    "comics['series'] = comics.title.str.split(\"#\", expand=True)[0]\n",
    "comics['year'] = comics.title.str.split(\"(\", expand=True)[1]\n",
    "comics['year'] = comics.year.str.split(\")\", expand=True)[0]"
   ]
  },
  {
   "cell_type": "code",
   "execution_count": 18,
   "metadata": {},
   "outputs": [
    {
     "data": {
      "text/plain": [
       "The Amazing Spider-Man (1963)                                  435\n",
       "Avengers (1963)                                                397\n",
       "Thor (1966)                                                    375\n",
       "Incredible Hulk (1962)                                         362\n",
       "Amazing Spider-Man (1999)                                      343\n",
       "                                                              ... \n",
       "What If? Classic Vol. 5 (Trade Paperback)                        1\n",
       "Onslaught Reborn (Trade Paperback)                               1\n",
       "X-Men: The Complete Onslaught Epic Book 4 (Trade Paperback)      1\n",
       "Avengers Epic Collection: Masters of Evil (Trade Paperback)      1\n",
       "Wolverine (2013)                                                 1\n",
       "Name: series, Length: 2225, dtype: int64"
      ]
     },
     "execution_count": 18,
     "metadata": {},
     "output_type": "execute_result"
    }
   ],
   "source": [
    "comics['series'].value_counts()"
   ]
  },
  {
   "cell_type": "code",
   "execution_count": 19,
   "metadata": {},
   "outputs": [
    {
     "data": {
      "text/plain": [
       "['Variant',\n",
       " 'Trade Paperback',\n",
       " 'Thor the Mighty Avenger',\n",
       " 'Spider-Man',\n",
       " 'Secret Empire',\n",
       " 'New Printing',\n",
       " 'New ',\n",
       " 'MDCU',\n",
       " 'John Cassaday Cover',\n",
       " 'Issues 615-619',\n",
       " 'Iron Man',\n",
       " 'Hardcover',\n",
       " 'Graphic Novel',\n",
       " 'GRAPHIC NOVEL',\n",
       " 'Digest',\n",
       " 'Daredevil Vol. I: Guardian Devil',\n",
       " 'DM Only',\n",
       " 'Captain America',\n",
       " 'Book Market',\n",
       " 'Archie',\n",
       " 'All-New Guardians of the Galaxy',\n",
       " 'All-New Edition',\n",
       " '2018',\n",
       " '2017',\n",
       " '2016',\n",
       " '2015',\n",
       " '2014',\n",
       " '2013',\n",
       " '2012',\n",
       " '2011',\n",
       " '2010',\n",
       " '2009',\n",
       " '2008',\n",
       " '2007',\n",
       " '2006',\n",
       " '2005',\n",
       " '2004',\n",
       " '2003',\n",
       " '2002',\n",
       " '2001',\n",
       " '2000',\n",
       " '1st',\n",
       " '1999',\n",
       " '1998',\n",
       " '1997',\n",
       " '1996',\n",
       " '1995',\n",
       " '1994',\n",
       " '1993',\n",
       " '1992',\n",
       " '1991',\n",
       " '1990',\n",
       " '1989',\n",
       " '1988',\n",
       " '1987',\n",
       " '1986',\n",
       " '1985',\n",
       " '1984',\n",
       " '1983',\n",
       " '1982',\n",
       " '1981',\n",
       " '1980',\n",
       " '1979',\n",
       " '1978',\n",
       " '1977',\n",
       " '1976',\n",
       " '1975',\n",
       " '1974',\n",
       " '1973',\n",
       " '1972',\n",
       " '1971',\n",
       " '1970',\n",
       " '1968',\n",
       " '1967',\n",
       " '1966',\n",
       " '1965',\n",
       " '1964',\n",
       " '1963',\n",
       " '1962',\n",
       " '1961',\n",
       " '1959',\n",
       " '1952',\n",
       " '1951',\n",
       " '1941',\n",
       " '1940',\n",
       " '1939']"
      ]
     },
     "execution_count": 19,
     "metadata": {},
     "output_type": "execute_result"
    }
   ],
   "source": [
    "sorted_years = sorted(comics['year'].unique(),reverse=True)\n",
    "sorted_years"
   ]
  },
  {
   "cell_type": "code",
   "execution_count": 20,
   "metadata": {},
   "outputs": [
    {
     "data": {
      "text/plain": [
       "43.0"
      ]
     },
     "execution_count": 20,
     "metadata": {},
     "output_type": "execute_result"
    }
   ],
   "source": [
    "len(comics['year'].unique())/2"
   ]
  },
  {
   "cell_type": "code",
   "execution_count": 21,
   "metadata": {},
   "outputs": [
    {
     "data": {
      "text/plain": [
       "'1998'"
      ]
     },
     "execution_count": 21,
     "metadata": {},
     "output_type": "execute_result"
    }
   ],
   "source": [
    "sorted_years[43]"
   ]
  },
  {
   "cell_type": "code",
   "execution_count": 35,
   "metadata": {},
   "outputs": [
    {
     "data": {
      "text/html": [
       "<div>\n",
       "<style scoped>\n",
       "    .dataframe tbody tr th:only-of-type {\n",
       "        vertical-align: middle;\n",
       "    }\n",
       "\n",
       "    .dataframe tbody tr th {\n",
       "        vertical-align: top;\n",
       "    }\n",
       "\n",
       "    .dataframe thead th {\n",
       "        text-align: right;\n",
       "    }\n",
       "</style>\n",
       "<table border=\"1\" class=\"dataframe\">\n",
       "  <thead>\n",
       "    <tr style=\"text-align: right;\">\n",
       "      <th></th>\n",
       "      <th>comicID</th>\n",
       "      <th>title</th>\n",
       "      <th>issueNumber</th>\n",
       "      <th>description</th>\n",
       "      <th>series</th>\n",
       "      <th>year</th>\n",
       "    </tr>\n",
       "  </thead>\n",
       "  <tbody>\n",
       "    <tr>\n",
       "      <th>18305</th>\n",
       "      <td>1237</td>\n",
       "      <td>Marvel Masterworks: Daredevil Vol. II - 2nd Ed...</td>\n",
       "      <td>0.0</td>\n",
       "      <td>NaN</td>\n",
       "      <td>Marvel Masterworks: Daredevil Vol. II - 2nd Ed...</td>\n",
       "      <td>1st</td>\n",
       "    </tr>\n",
       "    <tr>\n",
       "      <th>18356</th>\n",
       "      <td>1243</td>\n",
       "      <td>Marvel Masterworks: The Avengers Vol. III - 2n...</td>\n",
       "      <td>0.0</td>\n",
       "      <td>NaN</td>\n",
       "      <td>Marvel Masterworks: The Avengers Vol. III - 2n...</td>\n",
       "      <td>1st</td>\n",
       "    </tr>\n",
       "    <tr>\n",
       "      <th>18482</th>\n",
       "      <td>1211</td>\n",
       "      <td>Marvel Masterworks: Daredevil Vol. I - 2nd Edi...</td>\n",
       "      <td>0.0</td>\n",
       "      <td>NaN</td>\n",
       "      <td>Marvel Masterworks: Daredevil Vol. I - 2nd Edi...</td>\n",
       "      <td>1st</td>\n",
       "    </tr>\n",
       "    <tr>\n",
       "      <th>18498</th>\n",
       "      <td>1208</td>\n",
       "      <td>Marvel Masterworks: The Amazing Spider-Man Vol...</td>\n",
       "      <td>0.0</td>\n",
       "      <td>NaN</td>\n",
       "      <td>Marvel Masterworks: The Amazing Spider-Man Vol...</td>\n",
       "      <td>1st</td>\n",
       "    </tr>\n",
       "    <tr>\n",
       "      <th>18605</th>\n",
       "      <td>1213</td>\n",
       "      <td>Marvel Masterworks: The Avengers Vol. II - 2nd...</td>\n",
       "      <td>0.0</td>\n",
       "      <td>NaN</td>\n",
       "      <td>Marvel Masterworks: The Avengers Vol. II - 2nd...</td>\n",
       "      <td>1st</td>\n",
       "    </tr>\n",
       "  </tbody>\n",
       "</table>\n",
       "</div>"
      ],
      "text/plain": [
       "       comicID                                              title  \\\n",
       "18305     1237  Marvel Masterworks: Daredevil Vol. II - 2nd Ed...   \n",
       "18356     1243  Marvel Masterworks: The Avengers Vol. III - 2n...   \n",
       "18482     1211  Marvel Masterworks: Daredevil Vol. I - 2nd Edi...   \n",
       "18498     1208  Marvel Masterworks: The Amazing Spider-Man Vol...   \n",
       "18605     1213  Marvel Masterworks: The Avengers Vol. II - 2nd...   \n",
       "\n",
       "       issueNumber description  \\\n",
       "18305          0.0         NaN   \n",
       "18356          0.0         NaN   \n",
       "18482          0.0         NaN   \n",
       "18498          0.0         NaN   \n",
       "18605          0.0         NaN   \n",
       "\n",
       "                                                  series year  \n",
       "18305  Marvel Masterworks: Daredevil Vol. II - 2nd Ed...  1st  \n",
       "18356  Marvel Masterworks: The Avengers Vol. III - 2n...  1st  \n",
       "18482  Marvel Masterworks: Daredevil Vol. I - 2nd Edi...  1st  \n",
       "18498  Marvel Masterworks: The Amazing Spider-Man Vol...  1st  \n",
       "18605  Marvel Masterworks: The Avengers Vol. II - 2nd...  1st  "
      ]
     },
     "execution_count": 35,
     "metadata": {},
     "output_type": "execute_result"
    }
   ],
   "source": [
    "#Convert the strange text ones to the median year\n",
    "unwanted_strings = ['Variant',\n",
    " 'Trade Paperback',\n",
    " 'Thor the Mighty Avenger',\n",
    " 'Spider-Man',\n",
    " 'Secret Empire',\n",
    " 'New Printing',\n",
    " 'New ',\n",
    " 'MDCU',\n",
    " 'John Cassaday Cover',\n",
    " 'Issues 615-619',\n",
    " 'Iron Man',\n",
    " 'Hardcover',\n",
    " 'Graphic Novel',\n",
    " 'GRAPHIC NOVEL',\n",
    " 'Digest',\n",
    " 'Daredevil Vol. I: Guardian Devil',\n",
    " 'DM Only',\n",
    " 'Captain America',\n",
    " 'Book Market',\n",
    " 'Archie',\n",
    " 'All-New Guardians of the Galaxy',\n",
    " 'All-New Edition',\n",
    " '1st']\n",
    "\n",
    "comics.loc[comics.year.isin(unwanted_strings)]"
   ]
  },
  {
   "cell_type": "code",
   "execution_count": 36,
   "metadata": {},
   "outputs": [],
   "source": [
    "comics.loc[comics.year.isin(unwanted_strings),'year']= 1998"
   ]
  },
  {
   "cell_type": "code",
   "execution_count": 37,
   "metadata": {},
   "outputs": [
    {
     "data": {
      "text/plain": [
       "1998    1087\n",
       "1963     881\n",
       "2010     740\n",
       "1968     685\n",
       "1999     538\n",
       "        ... \n",
       "1979       7\n",
       "1978       4\n",
       "1981       2\n",
       "1973       2\n",
       "1965       1\n",
       "Name: year, Length: 64, dtype: int64"
      ]
     },
     "execution_count": 37,
     "metadata": {},
     "output_type": "execute_result"
    }
   ],
   "source": [
    "comics.year.value_counts()"
   ]
  },
  {
   "cell_type": "code",
   "execution_count": 38,
   "metadata": {},
   "outputs": [],
   "source": [
    "comics.year = comics.year.astype(int)"
   ]
  },
  {
   "cell_type": "code",
   "execution_count": 39,
   "metadata": {},
   "outputs": [
    {
     "data": {
      "text/html": [
       "<div>\n",
       "<style scoped>\n",
       "    .dataframe tbody tr th:only-of-type {\n",
       "        vertical-align: middle;\n",
       "    }\n",
       "\n",
       "    .dataframe tbody tr th {\n",
       "        vertical-align: top;\n",
       "    }\n",
       "\n",
       "    .dataframe thead th {\n",
       "        text-align: right;\n",
       "    }\n",
       "</style>\n",
       "<table border=\"1\" class=\"dataframe\">\n",
       "  <thead>\n",
       "    <tr style=\"text-align: right;\">\n",
       "      <th></th>\n",
       "      <th>comicID</th>\n",
       "      <th>title</th>\n",
       "      <th>issueNumber</th>\n",
       "      <th>description</th>\n",
       "      <th>series</th>\n",
       "      <th>year</th>\n",
       "    </tr>\n",
       "  </thead>\n",
       "  <tbody>\n",
       "    <tr>\n",
       "      <th>0</th>\n",
       "      <td>16232</td>\n",
       "      <td>Cap Transport (2005) #12</td>\n",
       "      <td>12.0</td>\n",
       "      <td>NaN</td>\n",
       "      <td>Cap Transport (2005)</td>\n",
       "      <td>2005</td>\n",
       "    </tr>\n",
       "    <tr>\n",
       "      <th>1</th>\n",
       "      <td>16248</td>\n",
       "      <td>Cap Transport (2005) #9</td>\n",
       "      <td>9.0</td>\n",
       "      <td>NaN</td>\n",
       "      <td>Cap Transport (2005)</td>\n",
       "      <td>2005</td>\n",
       "    </tr>\n",
       "    <tr>\n",
       "      <th>4</th>\n",
       "      <td>58634</td>\n",
       "      <td>A Year of Marvels: The Incredible (2016) #5</td>\n",
       "      <td>5.0</td>\n",
       "      <td>It’s Halloween in the Marvel U! What does that...</td>\n",
       "      <td>A Year of Marvels: The Incredible (2016)</td>\n",
       "      <td>2016</td>\n",
       "    </tr>\n",
       "    <tr>\n",
       "      <th>7</th>\n",
       "      <td>16241</td>\n",
       "      <td>Cap Transport (2005) #20</td>\n",
       "      <td>20.0</td>\n",
       "      <td>NaN</td>\n",
       "      <td>Cap Transport (2005)</td>\n",
       "      <td>2005</td>\n",
       "    </tr>\n",
       "    <tr>\n",
       "      <th>15</th>\n",
       "      <td>16234</td>\n",
       "      <td>Cap Transport (2005) #14</td>\n",
       "      <td>14.0</td>\n",
       "      <td>NaN</td>\n",
       "      <td>Cap Transport (2005)</td>\n",
       "      <td>2005</td>\n",
       "    </tr>\n",
       "  </tbody>\n",
       "</table>\n",
       "</div>"
      ],
      "text/plain": [
       "    comicID                                        title  issueNumber  \\\n",
       "0     16232                     Cap Transport (2005) #12         12.0   \n",
       "1     16248                      Cap Transport (2005) #9          9.0   \n",
       "4     58634  A Year of Marvels: The Incredible (2016) #5          5.0   \n",
       "7     16241                     Cap Transport (2005) #20         20.0   \n",
       "15    16234                     Cap Transport (2005) #14         14.0   \n",
       "\n",
       "                                          description  \\\n",
       "0                                                 NaN   \n",
       "1                                                 NaN   \n",
       "4   It’s Halloween in the Marvel U! What does that...   \n",
       "7                                                 NaN   \n",
       "15                                                NaN   \n",
       "\n",
       "                                       series  year  \n",
       "0                       Cap Transport (2005)   2005  \n",
       "1                       Cap Transport (2005)   2005  \n",
       "4   A Year of Marvels: The Incredible (2016)   2016  \n",
       "7                       Cap Transport (2005)   2005  \n",
       "15                      Cap Transport (2005)   2005  "
      ]
     },
     "execution_count": 39,
     "metadata": {},
     "output_type": "execute_result"
    }
   ],
   "source": [
    "comics.head()"
   ]
  },
  {
   "cell_type": "markdown",
   "metadata": {},
   "source": [
    "# Merge Comics Data"
   ]
  },
  {
   "cell_type": "code",
   "execution_count": 40,
   "metadata": {},
   "outputs": [
    {
     "data": {
      "text/html": [
       "<div>\n",
       "<style scoped>\n",
       "    .dataframe tbody tr th:only-of-type {\n",
       "        vertical-align: middle;\n",
       "    }\n",
       "\n",
       "    .dataframe tbody tr th {\n",
       "        vertical-align: top;\n",
       "    }\n",
       "\n",
       "    .dataframe thead th {\n",
       "        text-align: right;\n",
       "    }\n",
       "</style>\n",
       "<table border=\"1\" class=\"dataframe\">\n",
       "  <thead>\n",
       "    <tr style=\"text-align: right;\">\n",
       "      <th></th>\n",
       "      <th>comicID</th>\n",
       "      <th>characterID</th>\n",
       "      <th>name</th>\n",
       "      <th>title</th>\n",
       "      <th>issueNumber</th>\n",
       "      <th>description</th>\n",
       "      <th>series</th>\n",
       "      <th>year</th>\n",
       "    </tr>\n",
       "  </thead>\n",
       "  <tbody>\n",
       "    <tr>\n",
       "      <th>0</th>\n",
       "      <td>16232</td>\n",
       "      <td>1009220</td>\n",
       "      <td>Captain America</td>\n",
       "      <td>Cap Transport (2005) #12</td>\n",
       "      <td>12.0</td>\n",
       "      <td>NaN</td>\n",
       "      <td>Cap Transport (2005)</td>\n",
       "      <td>2005</td>\n",
       "    </tr>\n",
       "    <tr>\n",
       "      <th>1</th>\n",
       "      <td>16232</td>\n",
       "      <td>1010740</td>\n",
       "      <td>Winter Soldier</td>\n",
       "      <td>Cap Transport (2005) #12</td>\n",
       "      <td>12.0</td>\n",
       "      <td>NaN</td>\n",
       "      <td>Cap Transport (2005)</td>\n",
       "      <td>2005</td>\n",
       "    </tr>\n",
       "    <tr>\n",
       "      <th>2</th>\n",
       "      <td>16248</td>\n",
       "      <td>1009220</td>\n",
       "      <td>Captain America</td>\n",
       "      <td>Cap Transport (2005) #9</td>\n",
       "      <td>9.0</td>\n",
       "      <td>NaN</td>\n",
       "      <td>Cap Transport (2005)</td>\n",
       "      <td>2005</td>\n",
       "    </tr>\n",
       "    <tr>\n",
       "      <th>3</th>\n",
       "      <td>16248</td>\n",
       "      <td>1009552</td>\n",
       "      <td>S.H.I.E.L.D.</td>\n",
       "      <td>Cap Transport (2005) #9</td>\n",
       "      <td>9.0</td>\n",
       "      <td>NaN</td>\n",
       "      <td>Cap Transport (2005)</td>\n",
       "      <td>2005</td>\n",
       "    </tr>\n",
       "    <tr>\n",
       "      <th>4</th>\n",
       "      <td>16248</td>\n",
       "      <td>1009228</td>\n",
       "      <td>Sharon Carter</td>\n",
       "      <td>Cap Transport (2005) #9</td>\n",
       "      <td>9.0</td>\n",
       "      <td>NaN</td>\n",
       "      <td>Cap Transport (2005)</td>\n",
       "      <td>2005</td>\n",
       "    </tr>\n",
       "  </tbody>\n",
       "</table>\n",
       "</div>"
      ],
      "text/plain": [
       "   comicID  characterID             name                     title  \\\n",
       "0    16232      1009220  Captain America  Cap Transport (2005) #12   \n",
       "1    16232      1010740   Winter Soldier  Cap Transport (2005) #12   \n",
       "2    16248      1009220  Captain America   Cap Transport (2005) #9   \n",
       "3    16248      1009552     S.H.I.E.L.D.   Cap Transport (2005) #9   \n",
       "4    16248      1009228    Sharon Carter   Cap Transport (2005) #9   \n",
       "\n",
       "   issueNumber description                 series  year  \n",
       "0         12.0         NaN  Cap Transport (2005)   2005  \n",
       "1         12.0         NaN  Cap Transport (2005)   2005  \n",
       "2          9.0         NaN  Cap Transport (2005)   2005  \n",
       "3          9.0         NaN  Cap Transport (2005)   2005  \n",
       "4          9.0         NaN  Cap Transport (2005)   2005  "
      ]
     },
     "execution_count": 40,
     "metadata": {},
     "output_type": "execute_result"
    }
   ],
   "source": [
    "comic_books = mapper.merge(characters, on='characterID')\n",
    "comic_books = comic_books.merge(comics, on ='comicID')\n",
    "comic_books.head()"
   ]
  },
  {
   "cell_type": "code",
   "execution_count": 41,
   "metadata": {},
   "outputs": [],
   "source": [
    "comic_books['character_present'] = 1"
   ]
  },
  {
   "cell_type": "code",
   "execution_count": 55,
   "metadata": {},
   "outputs": [],
   "source": [
    "comic_books_pivot = comic_books.pivot_table(index='series', columns='name', values='character_present').fillna(0)"
   ]
  },
  {
   "cell_type": "code",
   "execution_count": 56,
   "metadata": {},
   "outputs": [],
   "source": [
    "comic_books_pivot = comic_books_pivot.merge(comic_books[['series','year']], on='series')"
   ]
  },
  {
   "cell_type": "code",
   "execution_count": 60,
   "metadata": {},
   "outputs": [],
   "source": [
    "comic_books_pivot = comic_books_pivot.groupby('series').max()"
   ]
  },
  {
   "cell_type": "code",
   "execution_count": 46,
   "metadata": {},
   "outputs": [],
   "source": [
    "# get the columns in the right order here\n",
    "mcu_df = mcu_df[comic_books_pivot.columns]"
   ]
  },
  {
   "cell_type": "code",
   "execution_count": 67,
   "metadata": {},
   "outputs": [
    {
     "data": {
      "text/html": [
       "<style>#sk-container-id-3 {color: black;background-color: white;}#sk-container-id-3 pre{padding: 0;}#sk-container-id-3 div.sk-toggleable {background-color: white;}#sk-container-id-3 label.sk-toggleable__label {cursor: pointer;display: block;width: 100%;margin-bottom: 0;padding: 0.3em;box-sizing: border-box;text-align: center;}#sk-container-id-3 label.sk-toggleable__label-arrow:before {content: \"▸\";float: left;margin-right: 0.25em;color: #696969;}#sk-container-id-3 label.sk-toggleable__label-arrow:hover:before {color: black;}#sk-container-id-3 div.sk-estimator:hover label.sk-toggleable__label-arrow:before {color: black;}#sk-container-id-3 div.sk-toggleable__content {max-height: 0;max-width: 0;overflow: hidden;text-align: left;background-color: #f0f8ff;}#sk-container-id-3 div.sk-toggleable__content pre {margin: 0.2em;color: black;border-radius: 0.25em;background-color: #f0f8ff;}#sk-container-id-3 input.sk-toggleable__control:checked~div.sk-toggleable__content {max-height: 200px;max-width: 100%;overflow: auto;}#sk-container-id-3 input.sk-toggleable__control:checked~label.sk-toggleable__label-arrow:before {content: \"▾\";}#sk-container-id-3 div.sk-estimator input.sk-toggleable__control:checked~label.sk-toggleable__label {background-color: #d4ebff;}#sk-container-id-3 div.sk-label input.sk-toggleable__control:checked~label.sk-toggleable__label {background-color: #d4ebff;}#sk-container-id-3 input.sk-hidden--visually {border: 0;clip: rect(1px 1px 1px 1px);clip: rect(1px, 1px, 1px, 1px);height: 1px;margin: -1px;overflow: hidden;padding: 0;position: absolute;width: 1px;}#sk-container-id-3 div.sk-estimator {font-family: monospace;background-color: #f0f8ff;border: 1px dotted black;border-radius: 0.25em;box-sizing: border-box;margin-bottom: 0.5em;}#sk-container-id-3 div.sk-estimator:hover {background-color: #d4ebff;}#sk-container-id-3 div.sk-parallel-item::after {content: \"\";width: 100%;border-bottom: 1px solid gray;flex-grow: 1;}#sk-container-id-3 div.sk-label:hover label.sk-toggleable__label {background-color: #d4ebff;}#sk-container-id-3 div.sk-serial::before {content: \"\";position: absolute;border-left: 1px solid gray;box-sizing: border-box;top: 0;bottom: 0;left: 50%;z-index: 0;}#sk-container-id-3 div.sk-serial {display: flex;flex-direction: column;align-items: center;background-color: white;padding-right: 0.2em;padding-left: 0.2em;position: relative;}#sk-container-id-3 div.sk-item {position: relative;z-index: 1;}#sk-container-id-3 div.sk-parallel {display: flex;align-items: stretch;justify-content: center;background-color: white;position: relative;}#sk-container-id-3 div.sk-item::before, #sk-container-id-3 div.sk-parallel-item::before {content: \"\";position: absolute;border-left: 1px solid gray;box-sizing: border-box;top: 0;bottom: 0;left: 50%;z-index: -1;}#sk-container-id-3 div.sk-parallel-item {display: flex;flex-direction: column;z-index: 1;position: relative;background-color: white;}#sk-container-id-3 div.sk-parallel-item:first-child::after {align-self: flex-end;width: 50%;}#sk-container-id-3 div.sk-parallel-item:last-child::after {align-self: flex-start;width: 50%;}#sk-container-id-3 div.sk-parallel-item:only-child::after {width: 0;}#sk-container-id-3 div.sk-dashed-wrapped {border: 1px dashed gray;margin: 0 0.4em 0.5em 0.4em;box-sizing: border-box;padding-bottom: 0.4em;background-color: white;}#sk-container-id-3 div.sk-label label {font-family: monospace;font-weight: bold;display: inline-block;line-height: 1.2em;}#sk-container-id-3 div.sk-label-container {text-align: center;}#sk-container-id-3 div.sk-container {/* jupyter's `normalize.less` sets `[hidden] { display: none; }` but bootstrap.min.css set `[hidden] { display: none !important; }` so we also need the `!important` here to be able to override the default hidden behavior on the sphinx rendered scikit-learn.org. See: https://github.com/scikit-learn/scikit-learn/issues/21755 */display: inline-block !important;position: relative;}#sk-container-id-3 div.sk-text-repr-fallback {display: none;}</style><div id=\"sk-container-id-3\" class=\"sk-top-container\"><div class=\"sk-text-repr-fallback\"><pre>NearestNeighbors()</pre><b>In a Jupyter environment, please rerun this cell to show the HTML representation or trust the notebook. <br />On GitHub, the HTML representation is unable to render, please try loading this page with nbviewer.org.</b></div><div class=\"sk-container\" hidden><div class=\"sk-item\"><div class=\"sk-estimator sk-toggleable\"><input class=\"sk-toggleable__control sk-hidden--visually\" id=\"sk-estimator-id-3\" type=\"checkbox\" checked><label for=\"sk-estimator-id-3\" class=\"sk-toggleable__label sk-toggleable__label-arrow\">NearestNeighbors</label><div class=\"sk-toggleable__content\"><pre>NearestNeighbors()</pre></div></div></div></div></div>"
      ],
      "text/plain": [
       "NearestNeighbors()"
      ]
     },
     "execution_count": 67,
     "metadata": {},
     "output_type": "execute_result"
    }
   ],
   "source": [
    "from sklearn.neighbors import NearestNeighbors\n",
    "\n",
    "X = comic_books_pivot.drop(columns='year').copy()\n",
    "n = NearestNeighbors(n_neighbors=5)\n",
    "n.fit(X)"
   ]
  },
  {
   "cell_type": "code",
   "execution_count": 68,
   "metadata": {},
   "outputs": [],
   "source": [
    "def recommend_comics(movie):\n",
    "    movie_data = mcu_df.drop(columns='year').loc[movie].values.reshape(1,-1)\n",
    "    rec_index = n.kneighbors(movie_data)[1][0]\n",
    "    return comic_books_pivot.iloc[rec_index].index\n",
    "\n",
    "    "
   ]
  },
  {
   "cell_type": "code",
   "execution_count": 69,
   "metadata": {},
   "outputs": [
    {
     "name": "stderr",
     "output_type": "stream",
     "text": [
      "/Library/Frameworks/Python.framework/Versions/3.10/lib/python3.10/site-packages/sklearn/base.py:450: UserWarning: X does not have valid feature names, but NearestNeighbors was fitted with feature names\n",
      "  warnings.warn(\n"
     ]
    },
    {
     "data": {
      "text/plain": [
       "Index(['Cap Transport (2005) ',\n",
       "       'Captain America: The Death of Captain America Vol. 2 - The Burden of Dreams (Trade Paperback)',\n",
       "       'Captain America: Winter Soldier Vol. 2 (Trade Paperback)',\n",
       "       'Captain America: Reborn MGC (2011) ',\n",
       "       'Captain America and the Secret Avengers (2011) '],\n",
       "      dtype='object', name='series')"
      ]
     },
     "execution_count": 69,
     "metadata": {},
     "output_type": "execute_result"
    }
   ],
   "source": [
    "recommend_comics('Captain America: The Winter Soldier')"
   ]
  },
  {
   "cell_type": "code",
   "execution_count": 70,
   "metadata": {},
   "outputs": [
    {
     "name": "stderr",
     "output_type": "stream",
     "text": [
      "/Library/Frameworks/Python.framework/Versions/3.10/lib/python3.10/site-packages/sklearn/base.py:450: UserWarning: X does not have valid feature names, but NearestNeighbors was fitted with feature names\n",
      "  warnings.warn(\n"
     ]
    },
    {
     "data": {
      "text/plain": [
       "Index(['Mighty Thor Vol. 3: The Asgard/Shi'ar War (Trade Paperback)',\n",
       "       'Devil Dinosaur by Jack Kirby Omnibus (Hardcover)',\n",
       "       'Mighty Thor Vol. 4: The War Thor (Hardcover)',\n",
       "       'Marvel Masterworks: The Mighty Thor Vol. 5 (Hardcover)',\n",
       "       'Generations: The Unworthy Thor & The Mighty Thor (2017) '],\n",
       "      dtype='object', name='series')"
      ]
     },
     "execution_count": 70,
     "metadata": {},
     "output_type": "execute_result"
    }
   ],
   "source": [
    "recommend_comics('Thor: Love and Thunder')"
   ]
  },
  {
   "cell_type": "code",
   "execution_count": 71,
   "metadata": {},
   "outputs": [
    {
     "name": "stderr",
     "output_type": "stream",
     "text": [
      "/Library/Frameworks/Python.framework/Versions/3.10/lib/python3.10/site-packages/sklearn/base.py:450: UserWarning: X does not have valid feature names, but NearestNeighbors was fitted with feature names\n",
      "  warnings.warn(\n"
     ]
    },
    {
     "data": {
      "text/plain": [
       "Index(['Captain Marvel: Earth's Mightiest Hero Vol. 3 (Trade Paperback)',\n",
       "       'Captain Marvel: Carol Danvers - The Ms. Marvel Years Vol. 2 (Trade Paperback)',\n",
       "       'Captain Marvel (2012) ',\n",
       "       'Captain Marvel: Earth's Mightiest Hero Vol. 4 (Trade Paperback)',\n",
       "       'Captain Marvel (2014) '],\n",
       "      dtype='object', name='series')"
      ]
     },
     "execution_count": 71,
     "metadata": {},
     "output_type": "execute_result"
    }
   ],
   "source": [
    "recommend_comics('Captain Marvel')"
   ]
  },
  {
   "cell_type": "code",
   "execution_count": 72,
   "metadata": {},
   "outputs": [
    {
     "name": "stderr",
     "output_type": "stream",
     "text": [
      "/Library/Frameworks/Python.framework/Versions/3.10/lib/python3.10/site-packages/sklearn/base.py:450: UserWarning: X does not have valid feature names, but NearestNeighbors was fitted with feature names\n",
      "  warnings.warn(\n"
     ]
    },
    {
     "data": {
      "text/plain": [
       "Index(['Young Avengers by Allan Heinberg & Jim Cheung: The Children's Crusade (Trade Paperback)',\n",
       "       'Vision (2015) ', 'Vision and the Scarlet Witch (1985) ',\n",
       "       'Avengers West Coast: Vision Quest (Trade Paperback)',\n",
       "       'Avengers Origins: Scarlet Witch & Quicksilver (2011) '],\n",
       "      dtype='object', name='series')"
      ]
     },
     "execution_count": 72,
     "metadata": {},
     "output_type": "execute_result"
    }
   ],
   "source": [
    "recommend_comics('WandaVision')"
   ]
  },
  {
   "cell_type": "code",
   "execution_count": 73,
   "metadata": {},
   "outputs": [
    {
     "name": "stderr",
     "output_type": "stream",
     "text": [
      "/Library/Frameworks/Python.framework/Versions/3.10/lib/python3.10/site-packages/sklearn/base.py:450: UserWarning: X does not have valid feature names, but NearestNeighbors was fitted with feature names\n",
      "  warnings.warn(\n"
     ]
    },
    {
     "data": {
      "text/plain": [
       "Index(['Marvel Universe Avengers Assemble: Civil War (2017) ',\n",
       "       'Marvel Universe Avengers: Ultron Revolution Vol. 3 (Digest)',\n",
       "       'Avengers Legends Vol. 2: The Korvac Saga (Trade Paperback)',\n",
       "       'Avengers: Galactic Storm Vol. 2 (Trade Paperback)',\n",
       "       'Avengers: The Serpent Crown (Trade Paperback)'],\n",
       "      dtype='object', name='series')"
      ]
     },
     "execution_count": 73,
     "metadata": {},
     "output_type": "execute_result"
    }
   ],
   "source": [
    "recommend_comics('Avengers: Age of Ultron')"
   ]
  },
  {
   "cell_type": "code",
   "execution_count": 74,
   "metadata": {},
   "outputs": [
    {
     "name": "stderr",
     "output_type": "stream",
     "text": [
      "/Library/Frameworks/Python.framework/Versions/3.10/lib/python3.10/site-packages/sklearn/base.py:450: UserWarning: X does not have valid feature names, but NearestNeighbors was fitted with feature names\n",
      "  warnings.warn(\n"
     ]
    },
    {
     "data": {
      "text/plain": [
       "Index(['Captain America (1968) ',\n",
       "       'Marvel Masterworks: Captain America Vol. 4 (Hardcover)',\n",
       "       'Secret Empire (2017) ',\n",
       "       'Avengers: The Serpent Crown (Trade Paperback)',\n",
       "       'Avengers/Defenders War Premiere (Hardcover)'],\n",
       "      dtype='object', name='series')"
      ]
     },
     "execution_count": 74,
     "metadata": {},
     "output_type": "execute_result"
    }
   ],
   "source": [
    "recommend_comics('Captain America: Civil War')"
   ]
  },
  {
   "cell_type": "code",
   "execution_count": 75,
   "metadata": {},
   "outputs": [
    {
     "name": "stderr",
     "output_type": "stream",
     "text": [
      "/Library/Frameworks/Python.framework/Versions/3.10/lib/python3.10/site-packages/sklearn/base.py:450: UserWarning: X does not have valid feature names, but NearestNeighbors was fitted with feature names\n",
      "  warnings.warn(\n"
     ]
    },
    {
     "data": {
      "text/plain": [
       "Index(['Marvel Universe Avengers Assemble: Civil War (2017) ',\n",
       "       'Marvel Universe Avengers: Ultron Revolution Vol. 3 (Digest)',\n",
       "       'Avengers: Endless Wartime (Hardcover)',\n",
       "       'Avengers: Season One (Graphic Novel)', 'Avengers VS (2016) '],\n",
       "      dtype='object', name='series')"
      ]
     },
     "execution_count": 75,
     "metadata": {},
     "output_type": "execute_result"
    }
   ],
   "source": [
    "recommend_comics('The Avengers')"
   ]
  },
  {
   "cell_type": "code",
   "execution_count": null,
   "metadata": {},
   "outputs": [],
   "source": []
  }
 ],
 "metadata": {
  "kernelspec": {
   "display_name": "Python 3.10.6 64-bit",
   "language": "python",
   "name": "python3"
  },
  "language_info": {
   "codemirror_mode": {
    "name": "ipython",
    "version": 3
   },
   "file_extension": ".py",
   "mimetype": "text/x-python",
   "name": "python",
   "nbconvert_exporter": "python",
   "pygments_lexer": "ipython3",
   "version": "3.10.6"
  },
  "orig_nbformat": 4,
  "vscode": {
   "interpreter": {
    "hash": "aee8b7b246df8f9039afb4144a1f6fd8d2ca17a180786b69acc140d282b71a49"
   }
  }
 },
 "nbformat": 4,
 "nbformat_minor": 2
}
