{
 "cells": [
  {
   "cell_type": "markdown",
   "id": "11963cc7",
   "metadata": {},
   "source": [
    "# Working with Classification Trees in Python\n",
    "\n",
    "## Learning Objectives\n",
    "Decision Trees are one of the most popular approaches to supervised machine learning. Decison Trees use an inverted tree-like structure to model the relationship between independent variables and a dependent variable. A tree with a categorical dependent variable is known as a **Classification Tree**. By the end of this tutorial, you will have learned:\n",
    "\n",
    "+ How to import, explore and prepare data\n",
    "+ How to build a Classification Tree model\n",
    "+ How to visualize the structure of a Classification Tree\n",
    "+ How to Prune a Classification Tree "
   ]
  },
  {
   "cell_type": "markdown",
   "id": "2887bb87",
   "metadata": {},
   "source": [
    "## 1. Collect the Data"
   ]
  },
  {
   "cell_type": "code",
   "execution_count": 1,
   "id": "046f5901",
   "metadata": {},
   "outputs": [
    {
     "data": {
      "text/html": [
       "<div>\n",
       "<style scoped>\n",
       "    .dataframe tbody tr th:only-of-type {\n",
       "        vertical-align: middle;\n",
       "    }\n",
       "\n",
       "    .dataframe tbody tr th {\n",
       "        vertical-align: top;\n",
       "    }\n",
       "\n",
       "    .dataframe thead th {\n",
       "        text-align: right;\n",
       "    }\n",
       "</style>\n",
       "<table border=\"1\" class=\"dataframe\">\n",
       "  <thead>\n",
       "    <tr style=\"text-align: right;\">\n",
       "      <th></th>\n",
       "      <th>Name</th>\n",
       "      <th>Agility</th>\n",
       "      <th>Accelerated Healing</th>\n",
       "      <th>Lantern Power Ring</th>\n",
       "      <th>Dimensional Awareness</th>\n",
       "      <th>Cold Resistance</th>\n",
       "      <th>Stealth</th>\n",
       "      <th>Energy Absorption</th>\n",
       "      <th>Flight</th>\n",
       "      <th>Danger Sense</th>\n",
       "      <th>...</th>\n",
       "      <th>Omniscient</th>\n",
       "      <th>Publisher</th>\n",
       "      <th>Alignment</th>\n",
       "      <th>Intelligence</th>\n",
       "      <th>Strength</th>\n",
       "      <th>Speed</th>\n",
       "      <th>Durability</th>\n",
       "      <th>Power</th>\n",
       "      <th>Combat</th>\n",
       "      <th>Total</th>\n",
       "    </tr>\n",
       "  </thead>\n",
       "  <tbody>\n",
       "    <tr>\n",
       "      <th>1</th>\n",
       "      <td>A-Bomb</td>\n",
       "      <td>False</td>\n",
       "      <td>True</td>\n",
       "      <td>False</td>\n",
       "      <td>False</td>\n",
       "      <td>False</td>\n",
       "      <td>False</td>\n",
       "      <td>False</td>\n",
       "      <td>False</td>\n",
       "      <td>False</td>\n",
       "      <td>...</td>\n",
       "      <td>False</td>\n",
       "      <td>Marvel Comics</td>\n",
       "      <td>good</td>\n",
       "      <td>38.0</td>\n",
       "      <td>100.0</td>\n",
       "      <td>17.0</td>\n",
       "      <td>80.0</td>\n",
       "      <td>17.0</td>\n",
       "      <td>64.0</td>\n",
       "      <td>316.0</td>\n",
       "    </tr>\n",
       "    <tr>\n",
       "      <th>4</th>\n",
       "      <td>Abomination</td>\n",
       "      <td>False</td>\n",
       "      <td>True</td>\n",
       "      <td>False</td>\n",
       "      <td>False</td>\n",
       "      <td>False</td>\n",
       "      <td>False</td>\n",
       "      <td>False</td>\n",
       "      <td>False</td>\n",
       "      <td>False</td>\n",
       "      <td>...</td>\n",
       "      <td>False</td>\n",
       "      <td>Marvel Comics</td>\n",
       "      <td>bad</td>\n",
       "      <td>63.0</td>\n",
       "      <td>80.0</td>\n",
       "      <td>53.0</td>\n",
       "      <td>90.0</td>\n",
       "      <td>55.0</td>\n",
       "      <td>95.0</td>\n",
       "      <td>436.0</td>\n",
       "    </tr>\n",
       "    <tr>\n",
       "      <th>5</th>\n",
       "      <td>Abraxas</td>\n",
       "      <td>False</td>\n",
       "      <td>False</td>\n",
       "      <td>False</td>\n",
       "      <td>True</td>\n",
       "      <td>False</td>\n",
       "      <td>False</td>\n",
       "      <td>False</td>\n",
       "      <td>True</td>\n",
       "      <td>False</td>\n",
       "      <td>...</td>\n",
       "      <td>False</td>\n",
       "      <td>Marvel Comics</td>\n",
       "      <td>bad</td>\n",
       "      <td>88.0</td>\n",
       "      <td>100.0</td>\n",
       "      <td>83.0</td>\n",
       "      <td>99.0</td>\n",
       "      <td>100.0</td>\n",
       "      <td>56.0</td>\n",
       "      <td>526.0</td>\n",
       "    </tr>\n",
       "    <tr>\n",
       "      <th>6</th>\n",
       "      <td>Absorbing Man</td>\n",
       "      <td>False</td>\n",
       "      <td>False</td>\n",
       "      <td>False</td>\n",
       "      <td>False</td>\n",
       "      <td>True</td>\n",
       "      <td>False</td>\n",
       "      <td>True</td>\n",
       "      <td>False</td>\n",
       "      <td>False</td>\n",
       "      <td>...</td>\n",
       "      <td>False</td>\n",
       "      <td>Marvel Comics</td>\n",
       "      <td>NaN</td>\n",
       "      <td>NaN</td>\n",
       "      <td>NaN</td>\n",
       "      <td>NaN</td>\n",
       "      <td>NaN</td>\n",
       "      <td>NaN</td>\n",
       "      <td>NaN</td>\n",
       "      <td>NaN</td>\n",
       "    </tr>\n",
       "    <tr>\n",
       "      <th>9</th>\n",
       "      <td>Agent Bob</td>\n",
       "      <td>False</td>\n",
       "      <td>False</td>\n",
       "      <td>False</td>\n",
       "      <td>False</td>\n",
       "      <td>False</td>\n",
       "      <td>True</td>\n",
       "      <td>False</td>\n",
       "      <td>False</td>\n",
       "      <td>False</td>\n",
       "      <td>...</td>\n",
       "      <td>False</td>\n",
       "      <td>Marvel Comics</td>\n",
       "      <td>good</td>\n",
       "      <td>10.0</td>\n",
       "      <td>8.0</td>\n",
       "      <td>13.0</td>\n",
       "      <td>5.0</td>\n",
       "      <td>5.0</td>\n",
       "      <td>20.0</td>\n",
       "      <td>61.0</td>\n",
       "    </tr>\n",
       "  </tbody>\n",
       "</table>\n",
       "<p>5 rows × 175 columns</p>\n",
       "</div>"
      ],
      "text/plain": [
       "            Name  Agility  Accelerated Healing  Lantern Power Ring  \\\n",
       "1         A-Bomb    False                 True               False   \n",
       "4    Abomination    False                 True               False   \n",
       "5        Abraxas    False                False               False   \n",
       "6  Absorbing Man    False                False               False   \n",
       "9      Agent Bob    False                False               False   \n",
       "\n",
       "   Dimensional Awareness  Cold Resistance  Stealth  Energy Absorption  Flight  \\\n",
       "1                  False            False    False              False   False   \n",
       "4                  False            False    False              False   False   \n",
       "5                   True            False    False              False    True   \n",
       "6                  False             True    False               True   False   \n",
       "9                  False            False     True              False   False   \n",
       "\n",
       "   Danger Sense  ...  Omniscient      Publisher  Alignment  Intelligence  \\\n",
       "1         False  ...       False  Marvel Comics       good          38.0   \n",
       "4         False  ...       False  Marvel Comics        bad          63.0   \n",
       "5         False  ...       False  Marvel Comics        bad          88.0   \n",
       "6         False  ...       False  Marvel Comics        NaN           NaN   \n",
       "9         False  ...       False  Marvel Comics       good          10.0   \n",
       "\n",
       "   Strength  Speed  Durability  Power  Combat  Total  \n",
       "1     100.0   17.0        80.0   17.0    64.0  316.0  \n",
       "4      80.0   53.0        90.0   55.0    95.0  436.0  \n",
       "5     100.0   83.0        99.0  100.0    56.0  526.0  \n",
       "6       NaN    NaN         NaN    NaN     NaN    NaN  \n",
       "9       8.0   13.0         5.0    5.0    20.0   61.0  \n",
       "\n",
       "[5 rows x 175 columns]"
      ]
     },
     "execution_count": 1,
     "metadata": {},
     "output_type": "execute_result"
    }
   ],
   "source": [
    "import pandas as pd\n",
    "import numpy as np\n",
    "heroes = pd.read_csv(\"superheroes_power_matrix.csv\")\n",
    "heroes = heroes.drop(columns = ['Intelligence','Durability'])\n",
    "heroes = heroes.merge(pd.read_csv('marvel_characters_info.csv')[['Name','Publisher']], how='left', on='Name')\n",
    "heroes = heroes.merge(pd.read_csv('charcters_stats.csv'), how='left', on='Name')\n",
    "\n",
    "heroes = heroes[heroes.Publisher == 'Marvel Comics']\n",
    "heroes.head()"
   ]
  },
  {
   "cell_type": "markdown",
   "id": "e6095cae",
   "metadata": {},
   "source": [
    "## 2. Clean the Data"
   ]
  },
  {
   "cell_type": "code",
   "execution_count": 2,
   "id": "7239372b",
   "metadata": {},
   "outputs": [],
   "source": [
    "%matplotlib inline\n",
    "from matplotlib import pyplot as plt\n",
    "import seaborn as sns"
   ]
  },
  {
   "cell_type": "code",
   "execution_count": 3,
   "id": "86b2af7e",
   "metadata": {},
   "outputs": [
    {
     "data": {
      "text/plain": [
       "Alignment       41\n",
       "Intelligence    39\n",
       "Strength        39\n",
       "Speed           39\n",
       "Durability      39\n",
       "Power           39\n",
       "Combat          39\n",
       "Total           39\n",
       "dtype: int64"
      ]
     },
     "execution_count": 3,
     "metadata": {},
     "output_type": "execute_result"
    }
   ],
   "source": [
    "heroes.isnull().sum()[heroes.isnull().sum() > 0 ]"
   ]
  },
  {
   "cell_type": "code",
   "execution_count": 4,
   "id": "7dc50628",
   "metadata": {},
   "outputs": [],
   "source": [
    "heroes.dropna(subset=['Alignment'],inplace=True)\n",
    "heroes = heroes[heroes.Alignment.isin(['good','bad'])]"
   ]
  },
  {
   "cell_type": "code",
   "execution_count": 8,
   "id": "15715c5a",
   "metadata": {},
   "outputs": [],
   "source": [
    "stats = heroes.drop(columns=['Name','Alignment','Publisher']).sum()\n",
    "drop_stats = stats[stats < 10].index"
   ]
  },
  {
   "cell_type": "code",
   "execution_count": 11,
   "id": "23d71ad0",
   "metadata": {},
   "outputs": [
    {
     "data": {
      "text/html": [
       "<div>\n",
       "<style scoped>\n",
       "    .dataframe tbody tr th:only-of-type {\n",
       "        vertical-align: middle;\n",
       "    }\n",
       "\n",
       "    .dataframe tbody tr th {\n",
       "        vertical-align: top;\n",
       "    }\n",
       "\n",
       "    .dataframe thead th {\n",
       "        text-align: right;\n",
       "    }\n",
       "</style>\n",
       "<table border=\"1\" class=\"dataframe\">\n",
       "  <thead>\n",
       "    <tr style=\"text-align: right;\">\n",
       "      <th></th>\n",
       "      <th>Name</th>\n",
       "      <th>Agility</th>\n",
       "      <th>Accelerated Healing</th>\n",
       "      <th>Dimensional Awareness</th>\n",
       "      <th>Cold Resistance</th>\n",
       "      <th>Stealth</th>\n",
       "      <th>Energy Absorption</th>\n",
       "      <th>Flight</th>\n",
       "      <th>Danger Sense</th>\n",
       "      <th>Marksmanship</th>\n",
       "      <th>...</th>\n",
       "      <th>Vision - Infrared</th>\n",
       "      <th>Vision - Thermal</th>\n",
       "      <th>Web Creation</th>\n",
       "      <th>Alignment</th>\n",
       "      <th>Intelligence</th>\n",
       "      <th>Strength</th>\n",
       "      <th>Speed</th>\n",
       "      <th>Durability</th>\n",
       "      <th>Power</th>\n",
       "      <th>Combat</th>\n",
       "    </tr>\n",
       "  </thead>\n",
       "  <tbody>\n",
       "    <tr>\n",
       "      <th>1</th>\n",
       "      <td>A-Bomb</td>\n",
       "      <td>False</td>\n",
       "      <td>True</td>\n",
       "      <td>False</td>\n",
       "      <td>False</td>\n",
       "      <td>False</td>\n",
       "      <td>False</td>\n",
       "      <td>False</td>\n",
       "      <td>False</td>\n",
       "      <td>False</td>\n",
       "      <td>...</td>\n",
       "      <td>False</td>\n",
       "      <td>False</td>\n",
       "      <td>False</td>\n",
       "      <td>good</td>\n",
       "      <td>38.0</td>\n",
       "      <td>100.0</td>\n",
       "      <td>17.0</td>\n",
       "      <td>80.0</td>\n",
       "      <td>17.0</td>\n",
       "      <td>64.0</td>\n",
       "    </tr>\n",
       "    <tr>\n",
       "      <th>4</th>\n",
       "      <td>Abomination</td>\n",
       "      <td>False</td>\n",
       "      <td>True</td>\n",
       "      <td>False</td>\n",
       "      <td>False</td>\n",
       "      <td>False</td>\n",
       "      <td>False</td>\n",
       "      <td>False</td>\n",
       "      <td>False</td>\n",
       "      <td>False</td>\n",
       "      <td>...</td>\n",
       "      <td>False</td>\n",
       "      <td>False</td>\n",
       "      <td>False</td>\n",
       "      <td>bad</td>\n",
       "      <td>63.0</td>\n",
       "      <td>80.0</td>\n",
       "      <td>53.0</td>\n",
       "      <td>90.0</td>\n",
       "      <td>55.0</td>\n",
       "      <td>95.0</td>\n",
       "    </tr>\n",
       "    <tr>\n",
       "      <th>5</th>\n",
       "      <td>Abraxas</td>\n",
       "      <td>False</td>\n",
       "      <td>False</td>\n",
       "      <td>True</td>\n",
       "      <td>False</td>\n",
       "      <td>False</td>\n",
       "      <td>False</td>\n",
       "      <td>True</td>\n",
       "      <td>False</td>\n",
       "      <td>False</td>\n",
       "      <td>...</td>\n",
       "      <td>False</td>\n",
       "      <td>False</td>\n",
       "      <td>False</td>\n",
       "      <td>bad</td>\n",
       "      <td>88.0</td>\n",
       "      <td>100.0</td>\n",
       "      <td>83.0</td>\n",
       "      <td>99.0</td>\n",
       "      <td>100.0</td>\n",
       "      <td>56.0</td>\n",
       "    </tr>\n",
       "    <tr>\n",
       "      <th>9</th>\n",
       "      <td>Agent Bob</td>\n",
       "      <td>False</td>\n",
       "      <td>False</td>\n",
       "      <td>False</td>\n",
       "      <td>False</td>\n",
       "      <td>True</td>\n",
       "      <td>False</td>\n",
       "      <td>False</td>\n",
       "      <td>False</td>\n",
       "      <td>False</td>\n",
       "      <td>...</td>\n",
       "      <td>False</td>\n",
       "      <td>False</td>\n",
       "      <td>False</td>\n",
       "      <td>good</td>\n",
       "      <td>10.0</td>\n",
       "      <td>8.0</td>\n",
       "      <td>13.0</td>\n",
       "      <td>5.0</td>\n",
       "      <td>5.0</td>\n",
       "      <td>20.0</td>\n",
       "    </tr>\n",
       "    <tr>\n",
       "      <th>10</th>\n",
       "      <td>Agent Zero</td>\n",
       "      <td>False</td>\n",
       "      <td>False</td>\n",
       "      <td>False</td>\n",
       "      <td>False</td>\n",
       "      <td>False</td>\n",
       "      <td>True</td>\n",
       "      <td>False</td>\n",
       "      <td>False</td>\n",
       "      <td>False</td>\n",
       "      <td>...</td>\n",
       "      <td>False</td>\n",
       "      <td>False</td>\n",
       "      <td>False</td>\n",
       "      <td>good</td>\n",
       "      <td>75.0</td>\n",
       "      <td>28.0</td>\n",
       "      <td>38.0</td>\n",
       "      <td>80.0</td>\n",
       "      <td>72.0</td>\n",
       "      <td>95.0</td>\n",
       "    </tr>\n",
       "    <tr>\n",
       "      <th>...</th>\n",
       "      <td>...</td>\n",
       "      <td>...</td>\n",
       "      <td>...</td>\n",
       "      <td>...</td>\n",
       "      <td>...</td>\n",
       "      <td>...</td>\n",
       "      <td>...</td>\n",
       "      <td>...</td>\n",
       "      <td>...</td>\n",
       "      <td>...</td>\n",
       "      <td>...</td>\n",
       "      <td>...</td>\n",
       "      <td>...</td>\n",
       "      <td>...</td>\n",
       "      <td>...</td>\n",
       "      <td>...</td>\n",
       "      <td>...</td>\n",
       "      <td>...</td>\n",
       "      <td>...</td>\n",
       "      <td>...</td>\n",
       "      <td>...</td>\n",
       "    </tr>\n",
       "    <tr>\n",
       "      <th>678</th>\n",
       "      <td>X-23</td>\n",
       "      <td>True</td>\n",
       "      <td>True</td>\n",
       "      <td>False</td>\n",
       "      <td>False</td>\n",
       "      <td>True</td>\n",
       "      <td>False</td>\n",
       "      <td>False</td>\n",
       "      <td>False</td>\n",
       "      <td>True</td>\n",
       "      <td>...</td>\n",
       "      <td>False</td>\n",
       "      <td>False</td>\n",
       "      <td>False</td>\n",
       "      <td>good</td>\n",
       "      <td>75.0</td>\n",
       "      <td>24.0</td>\n",
       "      <td>35.0</td>\n",
       "      <td>90.0</td>\n",
       "      <td>27.0</td>\n",
       "      <td>85.0</td>\n",
       "    </tr>\n",
       "    <tr>\n",
       "      <th>679</th>\n",
       "      <td>X-Man</td>\n",
       "      <td>False</td>\n",
       "      <td>False</td>\n",
       "      <td>False</td>\n",
       "      <td>False</td>\n",
       "      <td>False</td>\n",
       "      <td>False</td>\n",
       "      <td>True</td>\n",
       "      <td>False</td>\n",
       "      <td>False</td>\n",
       "      <td>...</td>\n",
       "      <td>False</td>\n",
       "      <td>False</td>\n",
       "      <td>False</td>\n",
       "      <td>good</td>\n",
       "      <td>88.0</td>\n",
       "      <td>53.0</td>\n",
       "      <td>53.0</td>\n",
       "      <td>95.0</td>\n",
       "      <td>92.0</td>\n",
       "      <td>84.0</td>\n",
       "    </tr>\n",
       "    <tr>\n",
       "      <th>680</th>\n",
       "      <td>Yellowjacket</td>\n",
       "      <td>False</td>\n",
       "      <td>False</td>\n",
       "      <td>False</td>\n",
       "      <td>False</td>\n",
       "      <td>False</td>\n",
       "      <td>False</td>\n",
       "      <td>False</td>\n",
       "      <td>False</td>\n",
       "      <td>False</td>\n",
       "      <td>...</td>\n",
       "      <td>False</td>\n",
       "      <td>False</td>\n",
       "      <td>False</td>\n",
       "      <td>good</td>\n",
       "      <td>88.0</td>\n",
       "      <td>10.0</td>\n",
       "      <td>12.0</td>\n",
       "      <td>28.0</td>\n",
       "      <td>12.0</td>\n",
       "      <td>14.0</td>\n",
       "    </tr>\n",
       "    <tr>\n",
       "      <th>681</th>\n",
       "      <td>Yellowjacket II</td>\n",
       "      <td>False</td>\n",
       "      <td>False</td>\n",
       "      <td>False</td>\n",
       "      <td>False</td>\n",
       "      <td>False</td>\n",
       "      <td>False</td>\n",
       "      <td>True</td>\n",
       "      <td>False</td>\n",
       "      <td>False</td>\n",
       "      <td>...</td>\n",
       "      <td>False</td>\n",
       "      <td>False</td>\n",
       "      <td>False</td>\n",
       "      <td>good</td>\n",
       "      <td>50.0</td>\n",
       "      <td>10.0</td>\n",
       "      <td>35.0</td>\n",
       "      <td>28.0</td>\n",
       "      <td>31.0</td>\n",
       "      <td>28.0</td>\n",
       "    </tr>\n",
       "    <tr>\n",
       "      <th>682</th>\n",
       "      <td>Ymir</td>\n",
       "      <td>False</td>\n",
       "      <td>False</td>\n",
       "      <td>False</td>\n",
       "      <td>True</td>\n",
       "      <td>False</td>\n",
       "      <td>False</td>\n",
       "      <td>False</td>\n",
       "      <td>False</td>\n",
       "      <td>False</td>\n",
       "      <td>...</td>\n",
       "      <td>False</td>\n",
       "      <td>False</td>\n",
       "      <td>False</td>\n",
       "      <td>good</td>\n",
       "      <td>50.0</td>\n",
       "      <td>100.0</td>\n",
       "      <td>27.0</td>\n",
       "      <td>100.0</td>\n",
       "      <td>83.0</td>\n",
       "      <td>28.0</td>\n",
       "    </tr>\n",
       "  </tbody>\n",
       "</table>\n",
       "<p>297 rows × 68 columns</p>\n",
       "</div>"
      ],
      "text/plain": [
       "                Name  Agility  Accelerated Healing  Dimensional Awareness  \\\n",
       "1             A-Bomb    False                 True                  False   \n",
       "4        Abomination    False                 True                  False   \n",
       "5            Abraxas    False                False                   True   \n",
       "9          Agent Bob    False                False                  False   \n",
       "10        Agent Zero    False                False                  False   \n",
       "..               ...      ...                  ...                    ...   \n",
       "678             X-23     True                 True                  False   \n",
       "679            X-Man    False                False                  False   \n",
       "680     Yellowjacket    False                False                  False   \n",
       "681  Yellowjacket II    False                False                  False   \n",
       "682             Ymir    False                False                  False   \n",
       "\n",
       "     Cold Resistance  Stealth  Energy Absorption  Flight  Danger Sense  \\\n",
       "1              False    False              False   False         False   \n",
       "4              False    False              False   False         False   \n",
       "5              False    False              False    True         False   \n",
       "9              False     True              False   False         False   \n",
       "10             False    False               True   False         False   \n",
       "..               ...      ...                ...     ...           ...   \n",
       "678            False     True              False   False         False   \n",
       "679            False    False              False    True         False   \n",
       "680            False    False              False   False         False   \n",
       "681            False    False              False    True         False   \n",
       "682             True    False              False   False         False   \n",
       "\n",
       "     Marksmanship  ...  Vision - Infrared  Vision - Thermal  Web Creation  \\\n",
       "1           False  ...              False             False         False   \n",
       "4           False  ...              False             False         False   \n",
       "5           False  ...              False             False         False   \n",
       "9           False  ...              False             False         False   \n",
       "10          False  ...              False             False         False   \n",
       "..            ...  ...                ...               ...           ...   \n",
       "678          True  ...              False             False         False   \n",
       "679         False  ...              False             False         False   \n",
       "680         False  ...              False             False         False   \n",
       "681         False  ...              False             False         False   \n",
       "682         False  ...              False             False         False   \n",
       "\n",
       "     Alignment  Intelligence  Strength  Speed  Durability  Power  Combat  \n",
       "1         good          38.0     100.0   17.0        80.0   17.0    64.0  \n",
       "4          bad          63.0      80.0   53.0        90.0   55.0    95.0  \n",
       "5          bad          88.0     100.0   83.0        99.0  100.0    56.0  \n",
       "9         good          10.0       8.0   13.0         5.0    5.0    20.0  \n",
       "10        good          75.0      28.0   38.0        80.0   72.0    95.0  \n",
       "..         ...           ...       ...    ...         ...    ...     ...  \n",
       "678       good          75.0      24.0   35.0        90.0   27.0    85.0  \n",
       "679       good          88.0      53.0   53.0        95.0   92.0    84.0  \n",
       "680       good          88.0      10.0   12.0        28.0   12.0    14.0  \n",
       "681       good          50.0      10.0   35.0        28.0   31.0    28.0  \n",
       "682       good          50.0     100.0   27.0       100.0   83.0    28.0  \n",
       "\n",
       "[297 rows x 68 columns]"
      ]
     },
     "execution_count": 11,
     "metadata": {},
     "output_type": "execute_result"
    }
   ],
   "source": [
    "heroes.drop(columns = list(drop_stats),inplace=True)\n",
    "heroes.drop(columns = ['Publisher','Total'],inplace=True)\n",
    "heroes"
   ]
  },
  {
   "cell_type": "markdown",
   "id": "2bb45e96",
   "metadata": {},
   "source": [
    "## 3. Explore the Data"
   ]
  },
  {
   "cell_type": "code",
   "execution_count": 12,
   "id": "04f4f3ae",
   "metadata": {},
   "outputs": [
    {
     "data": {
      "image/png": "[encoded data removed]",
      "text/plain": [
       "<Figure size 432x288 with 1 Axes>"
      ]
     },
     "metadata": {
      "needs_background": "light"
     },
     "output_type": "display_data"
    }
   ],
   "source": [
    "ax = sns.histplot(data = heroes, x = 'Intelligence', hue='Alignment', multiple='stack')"
   ]
  },
  {
   "cell_type": "code",
   "execution_count": 13,
   "id": "8da635bd",
   "metadata": {},
   "outputs": [
    {
     "data": {
      "image/png": "[encoded data removed]",
      "text/plain": [
       "<Figure size 432x288 with 1 Axes>"
      ]
     },
     "metadata": {
      "needs_background": "light"
     },
     "output_type": "display_data"
    }
   ],
   "source": [
    "ax = sns.histplot(data = heroes, x = 'Strength', hue='Alignment', multiple='stack')"
   ]
  },
  {
   "cell_type": "code",
   "execution_count": 14,
   "id": "dab11c2c",
   "metadata": {},
   "outputs": [
    {
     "data": {
      "image/png": "[encoded data removed]",
      "text/plain": [
       "<Figure size 432x288 with 1 Axes>"
      ]
     },
     "metadata": {
      "needs_background": "light"
     },
     "output_type": "display_data"
    }
   ],
   "source": [
    "ax = sns.histplot(data = heroes, x = 'Durability', hue='Alignment', multiple='stack')"
   ]
  },
  {
   "cell_type": "code",
   "execution_count": 15,
   "id": "14115cb6",
   "metadata": {},
   "outputs": [
    {
     "data": {
      "image/png": "[encoded data removed]",
      "text/plain": [
       "<Figure size 432x288 with 1 Axes>"
      ]
     },
     "metadata": {
      "needs_background": "light"
     },
     "output_type": "display_data"
    }
   ],
   "source": [
    "ax = sns.histplot(data = heroes, x = 'Speed', hue='Alignment', multiple='stack')"
   ]
  },
  {
   "cell_type": "code",
   "execution_count": 16,
   "id": "7139bd56",
   "metadata": {},
   "outputs": [
    {
     "data": {
      "image/png": "[encoded data removed]",
      "text/plain": [
       "<Figure size 432x288 with 1 Axes>"
      ]
     },
     "metadata": {
      "needs_background": "light"
     },
     "output_type": "display_data"
    }
   ],
   "source": [
    "ax = sns.histplot(data = heroes, x = 'Power', hue='Alignment', multiple='stack')"
   ]
  },
  {
   "cell_type": "markdown",
   "id": "d6d214f4",
   "metadata": {},
   "source": [
    "## 3. Prepare the Data"
   ]
  },
  {
   "cell_type": "code",
   "execution_count": 17,
   "id": "eb0b2837",
   "metadata": {},
   "outputs": [],
   "source": [
    "heroes = heroes.reset_index()\n",
    "heroes.drop(columns=['index'],inplace=True)"
   ]
  },
  {
   "cell_type": "code",
   "execution_count": 18,
   "id": "a570e61b",
   "metadata": {
    "scrolled": false
   },
   "outputs": [],
   "source": [
    "y = heroes['Alignment']"
   ]
  },
  {
   "cell_type": "code",
   "execution_count": 19,
   "id": "f482d484",
   "metadata": {},
   "outputs": [],
   "source": [
    "X = heroes.drop(columns=['Name','Alignment'])"
   ]
  },
  {
   "cell_type": "code",
   "execution_count": 20,
   "id": "346cdb9d",
   "metadata": {},
   "outputs": [],
   "source": [
    "from sklearn.model_selection import train_test_split, GridSearchCV\n",
    "X_train, X_test, y_train, y_test = train_test_split(X, y,\n",
    "                                                    train_size = 0.4,\n",
    "                                                    random_state = 42) "
   ]
  },
  {
   "cell_type": "code",
   "execution_count": 21,
   "id": "66162c9a",
   "metadata": {
    "scrolled": false
   },
   "outputs": [
    {
     "data": {
      "text/plain": [
       "((118, 66), (179, 66))"
      ]
     },
     "execution_count": 21,
     "metadata": {},
     "output_type": "execute_result"
    }
   ],
   "source": [
    "X_train.shape, X_test.shape"
   ]
  },
  {
   "cell_type": "markdown",
   "id": "7e67d2b0",
   "metadata": {},
   "source": [
    "## 4. Train and Evaluate the KNN Classifier"
   ]
  },
  {
   "cell_type": "code",
   "execution_count": 22,
   "id": "f5cb9b39",
   "metadata": {},
   "outputs": [
    {
     "data": {
      "text/plain": [
       "0.664804469273743"
      ]
     },
     "execution_count": 22,
     "metadata": {},
     "output_type": "execute_result"
    }
   ],
   "source": [
    "from sklearn.neighbors import KNeighborsClassifier\n",
    "classifier = KNeighborsClassifier()\n",
    "model = classifier.fit(X_train,y_train)\n",
    "model.score(X_test,y_test)"
   ]
  },
  {
   "cell_type": "markdown",
   "id": "427b2a5e",
   "metadata": {},
   "source": [
    "## Tune Parameters"
   ]
  },
  {
   "cell_type": "code",
   "execution_count": 23,
   "id": "858fcd75",
   "metadata": {},
   "outputs": [
    {
     "name": "stderr",
     "output_type": "stream",
     "text": [
      "/Library/Frameworks/Python.framework/Versions/3.10/lib/python3.10/site-packages/sklearn/model_selection/_validation.py:378: FitFailedWarning: \n",
      "980 fits failed out of a total of 2800.\n",
      "The score on these train-test partitions for these parameters will be set to nan.\n",
      "If these failures are not expected, you can try to debug them by setting error_score='raise'.\n",
      "\n",
      "Below are more details about the failures:\n",
      "--------------------------------------------------------------------------------\n",
      "280 fits failed with the following error:\n",
      "Traceback (most recent call last):\n",
      "  File \"/Library/Frameworks/Python.framework/Versions/3.10/lib/python3.10/site-packages/sklearn/model_selection/_validation.py\", line 686, in _fit_and_score\n",
      "    estimator.fit(X_train, y_train, **fit_params)\n",
      "  File \"/Library/Frameworks/Python.framework/Versions/3.10/lib/python3.10/site-packages/sklearn/neighbors/_classification.py\", line 207, in fit\n",
      "    return self._fit(X, y)\n",
      "  File \"/Library/Frameworks/Python.framework/Versions/3.10/lib/python3.10/site-packages/sklearn/neighbors/_base.py\", line 446, in _fit\n",
      "    self._check_algorithm_metric()\n",
      "  File \"/Library/Frameworks/Python.framework/Versions/3.10/lib/python3.10/site-packages/sklearn/neighbors/_base.py\", line 381, in _check_algorithm_metric\n",
      "    raise ValueError(\n",
      "ValueError: Metric 'jensenshannon' not valid. Use sorted(sklearn.neighbors.VALID_METRICS['brute']) to get valid options. Metric can also be a callable function.\n",
      "\n",
      "--------------------------------------------------------------------------------\n",
      "140 fits failed with the following error:\n",
      "Traceback (most recent call last):\n",
      "  File \"/Library/Frameworks/Python.framework/Versions/3.10/lib/python3.10/site-packages/sklearn/model_selection/_validation.py\", line 686, in _fit_and_score\n",
      "    estimator.fit(X_train, y_train, **fit_params)\n",
      "  File \"/Library/Frameworks/Python.framework/Versions/3.10/lib/python3.10/site-packages/sklearn/neighbors/_classification.py\", line 207, in fit\n",
      "    return self._fit(X, y)\n",
      "  File \"/Library/Frameworks/Python.framework/Versions/3.10/lib/python3.10/site-packages/sklearn/neighbors/_base.py\", line 446, in _fit\n",
      "    self._check_algorithm_metric()\n",
      "  File \"/Library/Frameworks/Python.framework/Versions/3.10/lib/python3.10/site-packages/sklearn/neighbors/_base.py\", line 381, in _check_algorithm_metric\n",
      "    raise ValueError(\n",
      "ValueError: Metric 'jensenshannon' not valid. Use sorted(sklearn.neighbors.VALID_METRICS['ball_tree']) to get valid options. Metric can also be a callable function.\n",
      "\n",
      "--------------------------------------------------------------------------------\n",
      "140 fits failed with the following error:\n",
      "Traceback (most recent call last):\n",
      "  File \"/Library/Frameworks/Python.framework/Versions/3.10/lib/python3.10/site-packages/sklearn/model_selection/_validation.py\", line 686, in _fit_and_score\n",
      "    estimator.fit(X_train, y_train, **fit_params)\n",
      "  File \"/Library/Frameworks/Python.framework/Versions/3.10/lib/python3.10/site-packages/sklearn/neighbors/_classification.py\", line 207, in fit\n",
      "    return self._fit(X, y)\n",
      "  File \"/Library/Frameworks/Python.framework/Versions/3.10/lib/python3.10/site-packages/sklearn/neighbors/_base.py\", line 446, in _fit\n",
      "    self._check_algorithm_metric()\n",
      "  File \"/Library/Frameworks/Python.framework/Versions/3.10/lib/python3.10/site-packages/sklearn/neighbors/_base.py\", line 381, in _check_algorithm_metric\n",
      "    raise ValueError(\n",
      "ValueError: Metric 'correlation' not valid. Use sorted(sklearn.neighbors.VALID_METRICS['ball_tree']) to get valid options. Metric can also be a callable function.\n",
      "\n",
      "--------------------------------------------------------------------------------\n",
      "140 fits failed with the following error:\n",
      "Traceback (most recent call last):\n",
      "  File \"/Library/Frameworks/Python.framework/Versions/3.10/lib/python3.10/site-packages/sklearn/model_selection/_validation.py\", line 686, in _fit_and_score\n",
      "    estimator.fit(X_train, y_train, **fit_params)\n",
      "  File \"/Library/Frameworks/Python.framework/Versions/3.10/lib/python3.10/site-packages/sklearn/neighbors/_classification.py\", line 207, in fit\n",
      "    return self._fit(X, y)\n",
      "  File \"/Library/Frameworks/Python.framework/Versions/3.10/lib/python3.10/site-packages/sklearn/neighbors/_base.py\", line 446, in _fit\n",
      "    self._check_algorithm_metric()\n",
      "  File \"/Library/Frameworks/Python.framework/Versions/3.10/lib/python3.10/site-packages/sklearn/neighbors/_base.py\", line 381, in _check_algorithm_metric\n",
      "    raise ValueError(\n",
      "ValueError: Metric 'jensenshannon' not valid. Use sorted(sklearn.neighbors.VALID_METRICS['kd_tree']) to get valid options. Metric can also be a callable function.\n",
      "\n",
      "--------------------------------------------------------------------------------\n",
      "140 fits failed with the following error:\n",
      "Traceback (most recent call last):\n",
      "  File \"/Library/Frameworks/Python.framework/Versions/3.10/lib/python3.10/site-packages/sklearn/model_selection/_validation.py\", line 686, in _fit_and_score\n",
      "    estimator.fit(X_train, y_train, **fit_params)\n",
      "  File \"/Library/Frameworks/Python.framework/Versions/3.10/lib/python3.10/site-packages/sklearn/neighbors/_classification.py\", line 207, in fit\n",
      "    return self._fit(X, y)\n",
      "  File \"/Library/Frameworks/Python.framework/Versions/3.10/lib/python3.10/site-packages/sklearn/neighbors/_base.py\", line 446, in _fit\n",
      "    self._check_algorithm_metric()\n",
      "  File \"/Library/Frameworks/Python.framework/Versions/3.10/lib/python3.10/site-packages/sklearn/neighbors/_base.py\", line 381, in _check_algorithm_metric\n",
      "    raise ValueError(\n",
      "ValueError: Metric 'correlation' not valid. Use sorted(sklearn.neighbors.VALID_METRICS['kd_tree']) to get valid options. Metric can also be a callable function.\n",
      "\n",
      "--------------------------------------------------------------------------------\n",
      "140 fits failed with the following error:\n",
      "Traceback (most recent call last):\n",
      "  File \"/Library/Frameworks/Python.framework/Versions/3.10/lib/python3.10/site-packages/sklearn/model_selection/_validation.py\", line 686, in _fit_and_score\n",
      "    estimator.fit(X_train, y_train, **fit_params)\n",
      "  File \"/Library/Frameworks/Python.framework/Versions/3.10/lib/python3.10/site-packages/sklearn/neighbors/_classification.py\", line 207, in fit\n",
      "    return self._fit(X, y)\n",
      "  File \"/Library/Frameworks/Python.framework/Versions/3.10/lib/python3.10/site-packages/sklearn/neighbors/_base.py\", line 446, in _fit\n",
      "    self._check_algorithm_metric()\n",
      "  File \"/Library/Frameworks/Python.framework/Versions/3.10/lib/python3.10/site-packages/sklearn/neighbors/_base.py\", line 381, in _check_algorithm_metric\n",
      "    raise ValueError(\n",
      "ValueError: Metric 'braycurtis' not valid. Use sorted(sklearn.neighbors.VALID_METRICS['kd_tree']) to get valid options. Metric can also be a callable function.\n",
      "\n",
      "  warnings.warn(some_fits_failed_message, FitFailedWarning)\n",
      "/Library/Frameworks/Python.framework/Versions/3.10/lib/python3.10/site-packages/sklearn/model_selection/_search.py:953: UserWarning: One or more of the test scores are non-finite: [0.60217391 0.60217391 0.63623188 0.6615942  0.64528986 0.65398551\n",
      " 0.65289855 0.66992754 0.66123188 0.66992754 0.61884058 0.6442029\n",
      " 0.67789855 0.6865942  0.67789855 0.6865942  0.6865942  0.70362319\n",
      " 0.6865942  0.70362319 0.6865942  0.70362319 0.6865942  0.70362319\n",
      " 0.6865942  0.70362319 0.6865942  0.70362319        nan        nan\n",
      "        nan        nan        nan        nan        nan        nan\n",
      "        nan        nan        nan        nan        nan        nan\n",
      "        nan        nan        nan        nan        nan        nan\n",
      "        nan        nan        nan        nan        nan        nan\n",
      "        nan        nan 0.55144928 0.5423913  0.61884058 0.63586957\n",
      " 0.6442029  0.62717391 0.68623188 0.63550725 0.67826087 0.67028986\n",
      " 0.67789855 0.64384058 0.69492754 0.65253623 0.6865942  0.65253623\n",
      " 0.6865942  0.67789855 0.6865942  0.67826087 0.6865942  0.67826087\n",
      " 0.6865942  0.68695652 0.6865942  0.69528986 0.6865942  0.69528986\n",
      " 0.58478261 0.58478261 0.60978261 0.63514493 0.62789855 0.6615942\n",
      " 0.61884058 0.63550725 0.66956522 0.66956522 0.65289855 0.66992754\n",
      " 0.6865942  0.67789855 0.69528986 0.69528986 0.67789855 0.69492754\n",
      " 0.6865942  0.70362319 0.6865942  0.70362319 0.6865942  0.70362319\n",
      " 0.6865942  0.70362319 0.6865942  0.70362319 0.60217391 0.59384058\n",
      " 0.60217391 0.60217391 0.65289855 0.66992754 0.65289855 0.6865942\n",
      " 0.64456522 0.65289855 0.62789855 0.66123188 0.6865942  0.6865942\n",
      " 0.6865942  0.69528986 0.6865942  0.70362319 0.6865942  0.70362319\n",
      " 0.6865942  0.70362319 0.6865942  0.70362319 0.6865942  0.70362319\n",
      " 0.6865942  0.70362319 0.61086957 0.61086957 0.6442029  0.66956522\n",
      " 0.65362319 0.66231884 0.64456522 0.6615942  0.66956522 0.66992754\n",
      " 0.61847826 0.6442029  0.67789855 0.6865942  0.67789855 0.6865942\n",
      " 0.6865942  0.70362319 0.6865942  0.70362319 0.6865942  0.70362319\n",
      " 0.6865942  0.70362319 0.6865942  0.70362319 0.6865942  0.70362319\n",
      "        nan        nan        nan        nan        nan        nan\n",
      "        nan        nan        nan        nan        nan        nan\n",
      "        nan        nan        nan        nan        nan        nan\n",
      "        nan        nan        nan        nan        nan        nan\n",
      "        nan        nan        nan        nan        nan        nan\n",
      "        nan        nan        nan        nan        nan        nan\n",
      "        nan        nan        nan        nan        nan        nan\n",
      "        nan        nan        nan        nan        nan        nan\n",
      "        nan        nan        nan        nan        nan        nan\n",
      "        nan        nan 0.58478261 0.58478261 0.60108696 0.62644928\n",
      " 0.63623188 0.6615942  0.62717391 0.6442029  0.67789855 0.66956522\n",
      " 0.65289855 0.66992754 0.6865942  0.67789855 0.69528986 0.69528986\n",
      " 0.67789855 0.69492754 0.6865942  0.70362319 0.6865942  0.70362319\n",
      " 0.6865942  0.70362319 0.6865942  0.70362319 0.6865942  0.70362319\n",
      " 0.6192029  0.61086957 0.61847826 0.61014493 0.66123188 0.6615942\n",
      " 0.6442029  0.67789855 0.65289855 0.65289855 0.62753623 0.66123188\n",
      " 0.67826087 0.6865942  0.6865942  0.69528986 0.6865942  0.70362319\n",
      " 0.6865942  0.70362319 0.6865942  0.70362319 0.6865942  0.70362319\n",
      " 0.6865942  0.70362319 0.6865942  0.70362319 0.61086957 0.61086957\n",
      " 0.6442029  0.66956522 0.65362319 0.66231884 0.64456522 0.6615942\n",
      " 0.66956522 0.66992754 0.61847826 0.6442029  0.67789855 0.6865942\n",
      " 0.67789855 0.6865942  0.6865942  0.70362319 0.6865942  0.70362319\n",
      " 0.6865942  0.70362319 0.6865942  0.70362319 0.6865942  0.70362319\n",
      " 0.6865942  0.70362319        nan        nan        nan        nan\n",
      "        nan        nan        nan        nan        nan        nan\n",
      "        nan        nan        nan        nan        nan        nan\n",
      "        nan        nan        nan        nan        nan        nan\n",
      "        nan        nan        nan        nan        nan        nan\n",
      "        nan        nan        nan        nan        nan        nan\n",
      "        nan        nan        nan        nan        nan        nan\n",
      "        nan        nan        nan        nan        nan        nan\n",
      "        nan        nan        nan        nan        nan        nan\n",
      "        nan        nan        nan        nan        nan        nan\n",
      "        nan        nan        nan        nan        nan        nan\n",
      "        nan        nan        nan        nan        nan        nan\n",
      "        nan        nan        nan        nan        nan        nan\n",
      "        nan        nan        nan        nan        nan        nan\n",
      "        nan        nan 0.6192029  0.61086957 0.61014493 0.60181159\n",
      " 0.66123188 0.6615942  0.6442029  0.67789855 0.65289855 0.65289855\n",
      " 0.62753623 0.66123188 0.67826087 0.6865942  0.6865942  0.69528986\n",
      " 0.6865942  0.70362319 0.6865942  0.70362319 0.6865942  0.70362319\n",
      " 0.6865942  0.70362319 0.6865942  0.70362319 0.6865942  0.70362319\n",
      " 0.60217391 0.60217391 0.63623188 0.6615942  0.64528986 0.65398551\n",
      " 0.65289855 0.66992754 0.66123188 0.66992754 0.61884058 0.6442029\n",
      " 0.67789855 0.6865942  0.67789855 0.6865942  0.6865942  0.70362319\n",
      " 0.6865942  0.70362319 0.6865942  0.70362319 0.6865942  0.70362319\n",
      " 0.6865942  0.70362319 0.6865942  0.70362319        nan        nan\n",
      "        nan        nan        nan        nan        nan        nan\n",
      "        nan        nan        nan        nan        nan        nan\n",
      "        nan        nan        nan        nan        nan        nan\n",
      "        nan        nan        nan        nan        nan        nan\n",
      "        nan        nan 0.55144928 0.5423913  0.61884058 0.63586957\n",
      " 0.6442029  0.62717391 0.68623188 0.63550725 0.67826087 0.67028986\n",
      " 0.67789855 0.64384058 0.69492754 0.65253623 0.6865942  0.65253623\n",
      " 0.6865942  0.67789855 0.6865942  0.67826087 0.6865942  0.67826087\n",
      " 0.6865942  0.68695652 0.6865942  0.69528986 0.6865942  0.69528986\n",
      " 0.58478261 0.58478261 0.60978261 0.63514493 0.62789855 0.6615942\n",
      " 0.61884058 0.63550725 0.66956522 0.66956522 0.65289855 0.66992754\n",
      " 0.6865942  0.67789855 0.69528986 0.69528986 0.67789855 0.69492754\n",
      " 0.6865942  0.70362319 0.6865942  0.70362319 0.6865942  0.70362319\n",
      " 0.6865942  0.70362319 0.6865942  0.70362319 0.60217391 0.59384058\n",
      " 0.60217391 0.60217391 0.65289855 0.66992754 0.65289855 0.6865942\n",
      " 0.64456522 0.65289855 0.62789855 0.66123188 0.6865942  0.6865942\n",
      " 0.6865942  0.69528986 0.6865942  0.70362319 0.6865942  0.70362319\n",
      " 0.6865942  0.70362319 0.6865942  0.70362319 0.6865942  0.70362319\n",
      " 0.6865942  0.70362319]\n",
      "  warnings.warn(\n"
     ]
    },
    {
     "data": {
      "text/html": [
       "<style>#sk-container-id-1 {color: black;background-color: white;}#sk-container-id-1 pre{padding: 0;}#sk-container-id-1 div.sk-toggleable {background-color: white;}#sk-container-id-1 label.sk-toggleable__label {cursor: pointer;display: block;width: 100%;margin-bottom: 0;padding: 0.3em;box-sizing: border-box;text-align: center;}#sk-container-id-1 label.sk-toggleable__label-arrow:before {content: \"▸\";float: left;margin-right: 0.25em;color: #696969;}#sk-container-id-1 label.sk-toggleable__label-arrow:hover:before {color: black;}#sk-container-id-1 div.sk-estimator:hover label.sk-toggleable__label-arrow:before {color: black;}#sk-container-id-1 div.sk-toggleable__content {max-height: 0;max-width: 0;overflow: hidden;text-align: left;background-color: #f0f8ff;}#sk-container-id-1 div.sk-toggleable__content pre {margin: 0.2em;color: black;border-radius: 0.25em;background-color: #f0f8ff;}#sk-container-id-1 input.sk-toggleable__control:checked~div.sk-toggleable__content {max-height: 200px;max-width: 100%;overflow: auto;}#sk-container-id-1 input.sk-toggleable__control:checked~label.sk-toggleable__label-arrow:before {content: \"▾\";}#sk-container-id-1 div.sk-estimator input.sk-toggleable__control:checked~label.sk-toggleable__label {background-color: #d4ebff;}#sk-container-id-1 div.sk-label input.sk-toggleable__control:checked~label.sk-toggleable__label {background-color: #d4ebff;}#sk-container-id-1 input.sk-hidden--visually {border: 0;clip: rect(1px 1px 1px 1px);clip: rect(1px, 1px, 1px, 1px);height: 1px;margin: -1px;overflow: hidden;padding: 0;position: absolute;width: 1px;}#sk-container-id-1 div.sk-estimator {font-family: monospace;background-color: #f0f8ff;border: 1px dotted black;border-radius: 0.25em;box-sizing: border-box;margin-bottom: 0.5em;}#sk-container-id-1 div.sk-estimator:hover {background-color: #d4ebff;}#sk-container-id-1 div.sk-parallel-item::after {content: \"\";width: 100%;border-bottom: 1px solid gray;flex-grow: 1;}#sk-container-id-1 div.sk-label:hover label.sk-toggleable__label {background-color: #d4ebff;}#sk-container-id-1 div.sk-serial::before {content: \"\";position: absolute;border-left: 1px solid gray;box-sizing: border-box;top: 0;bottom: 0;left: 50%;z-index: 0;}#sk-container-id-1 div.sk-serial {display: flex;flex-direction: column;align-items: center;background-color: white;padding-right: 0.2em;padding-left: 0.2em;position: relative;}#sk-container-id-1 div.sk-item {position: relative;z-index: 1;}#sk-container-id-1 div.sk-parallel {display: flex;align-items: stretch;justify-content: center;background-color: white;position: relative;}#sk-container-id-1 div.sk-item::before, #sk-container-id-1 div.sk-parallel-item::before {content: \"\";position: absolute;border-left: 1px solid gray;box-sizing: border-box;top: 0;bottom: 0;left: 50%;z-index: -1;}#sk-container-id-1 div.sk-parallel-item {display: flex;flex-direction: column;z-index: 1;position: relative;background-color: white;}#sk-container-id-1 div.sk-parallel-item:first-child::after {align-self: flex-end;width: 50%;}#sk-container-id-1 div.sk-parallel-item:last-child::after {align-self: flex-start;width: 50%;}#sk-container-id-1 div.sk-parallel-item:only-child::after {width: 0;}#sk-container-id-1 div.sk-dashed-wrapped {border: 1px dashed gray;margin: 0 0.4em 0.5em 0.4em;box-sizing: border-box;padding-bottom: 0.4em;background-color: white;}#sk-container-id-1 div.sk-label label {font-family: monospace;font-weight: bold;display: inline-block;line-height: 1.2em;}#sk-container-id-1 div.sk-label-container {text-align: center;}#sk-container-id-1 div.sk-container {/* jupyter's `normalize.less` sets `[hidden] { display: none; }` but bootstrap.min.css set `[hidden] { display: none !important; }` so we also need the `!important` here to be able to override the default hidden behavior on the sphinx rendered scikit-learn.org. See: https://github.com/scikit-learn/scikit-learn/issues/21755 */display: inline-block !important;position: relative;}#sk-container-id-1 div.sk-text-repr-fallback {display: none;}</style><div id=\"sk-container-id-1\" class=\"sk-top-container\"><div class=\"sk-text-repr-fallback\"><pre>KNeighborsClassifier(metric=&#x27;euclidean&#x27;, n_neighbors=19, weights=&#x27;distance&#x27;)</pre><b>In a Jupyter environment, please rerun this cell to show the HTML representation or trust the notebook. <br />On GitHub, the HTML representation is unable to render, please try loading this page with nbviewer.org.</b></div><div class=\"sk-container\" hidden><div class=\"sk-item\"><div class=\"sk-estimator sk-toggleable\"><input class=\"sk-toggleable__control sk-hidden--visually\" id=\"sk-estimator-id-1\" type=\"checkbox\" checked><label for=\"sk-estimator-id-1\" class=\"sk-toggleable__label sk-toggleable__label-arrow\">KNeighborsClassifier</label><div class=\"sk-toggleable__content\"><pre>KNeighborsClassifier(metric=&#x27;euclidean&#x27;, n_neighbors=19, weights=&#x27;distance&#x27;)</pre></div></div></div></div></div>"
      ],
      "text/plain": [
       "KNeighborsClassifier(metric='euclidean', n_neighbors=19, weights='distance')"
      ]
     },
     "execution_count": 23,
     "metadata": {},
     "output_type": "execute_result"
    }
   ],
   "source": [
    "grid = {'weights':['uniform','distance'],\n",
    "        'algorithm':['auto','ball_tree','kd_tree','brute'],\n",
    "        'n_neighbors': np.arange(3,31,2),\n",
    "        'metric':['euclidean','jensenshannon','correlation','braycurtis','cityblock']}\n",
    "\n",
    "estimator = KNeighborsClassifier()\n",
    "gc = GridSearchCV(estimator=estimator,param_grid=grid)\n",
    "gc.fit(X_train, y_train)\n",
    "gc.best_estimator_"
   ]
  },
  {
   "cell_type": "code",
   "execution_count": 24,
   "id": "a4fbd365",
   "metadata": {
    "scrolled": false
   },
   "outputs": [
    {
     "data": {
      "text/plain": [
       "0.6815642458100558"
      ]
     },
     "execution_count": 24,
     "metadata": {},
     "output_type": "execute_result"
    }
   ],
   "source": [
    "classifier = KNeighborsClassifier(n_neighbors=19, metric='euclidean',weights='distance')\n",
    "model = classifier.fit(X_train,y_train)\n",
    "model.score(X_test,y_test)"
   ]
  },
  {
   "cell_type": "code",
   "execution_count": 25,
   "id": "c2cc0348",
   "metadata": {},
   "outputs": [
    {
     "data": {
      "text/plain": [
       "array(['good'], dtype=object)"
      ]
     },
     "execution_count": 25,
     "metadata": {},
     "output_type": "execute_result"
    }
   ],
   "source": [
    "ca_test = heroes.loc[heroes.Name == 'Captain America'].drop(columns=['Name','Alignment'])\n",
    "model.predict(ca_test)"
   ]
  },
  {
   "cell_type": "code",
   "execution_count": 26,
   "id": "a2d3a26b",
   "metadata": {},
   "outputs": [
    {
     "data": {
      "text/plain": [
       "array(['good'], dtype=object)"
      ]
     },
     "execution_count": 26,
     "metadata": {},
     "output_type": "execute_result"
    }
   ],
   "source": [
    "mag_test = heroes.loc[heroes.Name == 'Magneto'].drop(columns=['Name','Alignment'])\n",
    "model.predict(mag_test)"
   ]
  },
  {
   "cell_type": "code",
   "execution_count": 27,
   "id": "92be5d0d",
   "metadata": {},
   "outputs": [
    {
     "data": {
      "text/html": [
       "<div>\n",
       "<style scoped>\n",
       "    .dataframe tbody tr th:only-of-type {\n",
       "        vertical-align: middle;\n",
       "    }\n",
       "\n",
       "    .dataframe tbody tr th {\n",
       "        vertical-align: top;\n",
       "    }\n",
       "\n",
       "    .dataframe thead th {\n",
       "        text-align: right;\n",
       "    }\n",
       "</style>\n",
       "<table border=\"1\" class=\"dataframe\">\n",
       "  <thead>\n",
       "    <tr style=\"text-align: right;\">\n",
       "      <th></th>\n",
       "      <th>Name</th>\n",
       "      <th>Agility</th>\n",
       "      <th>Accelerated Healing</th>\n",
       "      <th>Dimensional Awareness</th>\n",
       "      <th>Cold Resistance</th>\n",
       "      <th>Stealth</th>\n",
       "      <th>Energy Absorption</th>\n",
       "      <th>Flight</th>\n",
       "      <th>Danger Sense</th>\n",
       "      <th>Marksmanship</th>\n",
       "      <th>...</th>\n",
       "      <th>Vision - Infrared</th>\n",
       "      <th>Vision - Thermal</th>\n",
       "      <th>Web Creation</th>\n",
       "      <th>Alignment</th>\n",
       "      <th>Intelligence</th>\n",
       "      <th>Strength</th>\n",
       "      <th>Speed</th>\n",
       "      <th>Durability</th>\n",
       "      <th>Power</th>\n",
       "      <th>Combat</th>\n",
       "    </tr>\n",
       "  </thead>\n",
       "  <tbody>\n",
       "    <tr>\n",
       "      <th>168</th>\n",
       "      <td>Magneto</td>\n",
       "      <td>False</td>\n",
       "      <td>False</td>\n",
       "      <td>False</td>\n",
       "      <td>False</td>\n",
       "      <td>False</td>\n",
       "      <td>False</td>\n",
       "      <td>True</td>\n",
       "      <td>False</td>\n",
       "      <td>False</td>\n",
       "      <td>...</td>\n",
       "      <td>False</td>\n",
       "      <td>False</td>\n",
       "      <td>False</td>\n",
       "      <td>bad</td>\n",
       "      <td>88.0</td>\n",
       "      <td>80.0</td>\n",
       "      <td>27.0</td>\n",
       "      <td>84.0</td>\n",
       "      <td>91.0</td>\n",
       "      <td>80.0</td>\n",
       "    </tr>\n",
       "  </tbody>\n",
       "</table>\n",
       "<p>1 rows × 68 columns</p>\n",
       "</div>"
      ],
      "text/plain": [
       "        Name  Agility  Accelerated Healing  Dimensional Awareness  \\\n",
       "168  Magneto    False                False                  False   \n",
       "\n",
       "     Cold Resistance  Stealth  Energy Absorption  Flight  Danger Sense  \\\n",
       "168            False    False              False    True         False   \n",
       "\n",
       "     Marksmanship  ...  Vision - Infrared  Vision - Thermal  Web Creation  \\\n",
       "168         False  ...              False             False         False   \n",
       "\n",
       "     Alignment  Intelligence  Strength  Speed  Durability  Power  Combat  \n",
       "168        bad          88.0      80.0   27.0        84.0   91.0    80.0  \n",
       "\n",
       "[1 rows x 68 columns]"
      ]
     },
     "execution_count": 27,
     "metadata": {},
     "output_type": "execute_result"
    }
   ],
   "source": [
    "heroes.loc[heroes.Name == \"Magneto\"]"
   ]
  },
  {
   "cell_type": "code",
   "execution_count": 28,
   "id": "98c618bd",
   "metadata": {},
   "outputs": [
    {
     "data": {
      "text/plain": [
       "array(['bad'], dtype=object)"
      ]
     },
     "execution_count": 28,
     "metadata": {},
     "output_type": "execute_result"
    }
   ],
   "source": [
    "than_test = heroes.loc[heroes.Name == 'Thanos'].drop(columns=['Name','Alignment'])\n",
    "model.predict(than_test)"
   ]
  },
  {
   "cell_type": "code",
   "execution_count": 29,
   "id": "ba040652",
   "metadata": {},
   "outputs": [
    {
     "data": {
      "text/plain": [
       "array(['bad'], dtype=object)"
      ]
     },
     "execution_count": 29,
     "metadata": {},
     "output_type": "execute_result"
    }
   ],
   "source": [
    "red_test = heroes.loc[heroes.Name == 'Red Skull'].drop(columns=['Name','Alignment'])\n",
    "model.predict(red_test)"
   ]
  },
  {
   "cell_type": "code",
   "execution_count": 30,
   "id": "3b5f6f1f",
   "metadata": {},
   "outputs": [
    {
     "data": {
      "text/plain": [
       "'good'"
      ]
     },
     "execution_count": 30,
     "metadata": {},
     "output_type": "execute_result"
    }
   ],
   "source": [
    "model.predict(heroes.loc[heroes.Name == 'Scarlet Witch'].drop(columns=['Name','Alignment']))[0]"
   ]
  },
  {
   "cell_type": "code",
   "execution_count": 31,
   "id": "70b3a1cf",
   "metadata": {},
   "outputs": [
    {
     "data": {
      "text/html": [
       "<div>\n",
       "<style scoped>\n",
       "    .dataframe tbody tr th:only-of-type {\n",
       "        vertical-align: middle;\n",
       "    }\n",
       "\n",
       "    .dataframe tbody tr th {\n",
       "        vertical-align: top;\n",
       "    }\n",
       "\n",
       "    .dataframe thead th {\n",
       "        text-align: right;\n",
       "    }\n",
       "</style>\n",
       "<table border=\"1\" class=\"dataframe\">\n",
       "  <thead>\n",
       "    <tr style=\"text-align: right;\">\n",
       "      <th></th>\n",
       "      <th>Name</th>\n",
       "      <th>Agility</th>\n",
       "      <th>Accelerated Healing</th>\n",
       "      <th>Dimensional Awareness</th>\n",
       "      <th>Cold Resistance</th>\n",
       "      <th>Stealth</th>\n",
       "      <th>Energy Absorption</th>\n",
       "      <th>Flight</th>\n",
       "      <th>Danger Sense</th>\n",
       "      <th>Marksmanship</th>\n",
       "      <th>...</th>\n",
       "      <th>Vision - Infrared</th>\n",
       "      <th>Vision - Thermal</th>\n",
       "      <th>Web Creation</th>\n",
       "      <th>Alignment</th>\n",
       "      <th>Intelligence</th>\n",
       "      <th>Strength</th>\n",
       "      <th>Speed</th>\n",
       "      <th>Durability</th>\n",
       "      <th>Power</th>\n",
       "      <th>Combat</th>\n",
       "    </tr>\n",
       "  </thead>\n",
       "  <tbody>\n",
       "    <tr>\n",
       "      <th>222</th>\n",
       "      <td>Scarlet Witch</td>\n",
       "      <td>True</td>\n",
       "      <td>False</td>\n",
       "      <td>True</td>\n",
       "      <td>False</td>\n",
       "      <td>False</td>\n",
       "      <td>False</td>\n",
       "      <td>True</td>\n",
       "      <td>False</td>\n",
       "      <td>False</td>\n",
       "      <td>...</td>\n",
       "      <td>False</td>\n",
       "      <td>False</td>\n",
       "      <td>False</td>\n",
       "      <td>bad</td>\n",
       "      <td>88.0</td>\n",
       "      <td>10.0</td>\n",
       "      <td>23.0</td>\n",
       "      <td>42.0</td>\n",
       "      <td>67.0</td>\n",
       "      <td>28.0</td>\n",
       "    </tr>\n",
       "  </tbody>\n",
       "</table>\n",
       "<p>1 rows × 68 columns</p>\n",
       "</div>"
      ],
      "text/plain": [
       "              Name  Agility  Accelerated Healing  Dimensional Awareness  \\\n",
       "222  Scarlet Witch     True                False                   True   \n",
       "\n",
       "     Cold Resistance  Stealth  Energy Absorption  Flight  Danger Sense  \\\n",
       "222            False    False              False    True         False   \n",
       "\n",
       "     Marksmanship  ...  Vision - Infrared  Vision - Thermal  Web Creation  \\\n",
       "222         False  ...              False             False         False   \n",
       "\n",
       "     Alignment  Intelligence  Strength  Speed  Durability  Power  Combat  \n",
       "222        bad          88.0      10.0   23.0        42.0   67.0    28.0  \n",
       "\n",
       "[1 rows x 68 columns]"
      ]
     },
     "execution_count": 31,
     "metadata": {},
     "output_type": "execute_result"
    }
   ],
   "source": [
    "heroes.loc[heroes.Name == \"Scarlet Witch\"]"
   ]
  },
  {
   "cell_type": "code",
   "execution_count": 32,
   "id": "6d163039",
   "metadata": {},
   "outputs": [
    {
     "name": "stdout",
     "output_type": "stream",
     "text": [
      "['Abraxas', 'Air-Walker', 'Ammo', 'Annihilus', 'Apocalypse', 'Arclight', 'Big Man', 'Bird-Man II', 'Black Abbott', 'Blackout', 'Bloodaxe', 'Bullseye', 'Callisto', 'Carnage', 'Demogoblin', 'Destroyer', 'Doctor Doom', 'Dormammu', 'Ego', 'Evilhawk', 'Fallen One II', 'Frenzy', 'Goblin Queen', 'Green Goblin', 'Green Goblin II', 'Hobgoblin', 'Iron Monger', 'Klaw', 'Kraven the Hunter', 'Lady Bullseye', 'Leader', 'Living Brain', 'Magneto', 'Mandarin', 'Mephisto', 'Mister Sinister', 'Molten Man', 'Morlun', 'Moses Magnum', 'Proto-Goblin', 'Razor-Fist II', 'Rhino', 'Scarlet Witch', 'Scorpia', 'Scorpion', 'Siryn', 'Spider-Woman IV', 'Tiger Shark', 'Tinkerer', 'Venom', 'Venom II', 'Venom III', 'Vulture', 'Walrus']\n"
     ]
    }
   ],
   "source": [
    "good_villains = []\n",
    "\n",
    "villains = heroes[heroes.Alignment == 'bad'].Name.unique()\n",
    "for villain in villains: \n",
    "    result=model.predict(heroes.loc[heroes.Name == villain].drop(columns=['Name','Alignment']))[0]\n",
    "    if result == \"good\":\n",
    "        good_villains.append(villain)\n",
    "\n",
    "print(good_villains)\n"
   ]
  },
  {
   "cell_type": "code",
   "execution_count": 33,
   "id": "a0fcc52f",
   "metadata": {},
   "outputs": [
    {
     "data": {
      "text/plain": [
       "0.6"
      ]
     },
     "execution_count": 33,
     "metadata": {},
     "output_type": "execute_result"
    }
   ],
   "source": [
    "len(good_villains)/len(villains)"
   ]
  },
  {
   "cell_type": "code",
   "execution_count": 34,
   "id": "61fb34bd",
   "metadata": {},
   "outputs": [
    {
     "name": "stdout",
     "output_type": "stream",
     "text": [
      "['Cerebra', 'Iceman', 'Shadow King']\n"
     ]
    }
   ],
   "source": [
    "bad_heroes = []\n",
    "\n",
    "heroes_list = heroes[heroes.Alignment == 'good'].Name.unique()\n",
    "for hero in heroes_list: \n",
    "    result=model.predict(heroes.loc[heroes.Name == hero].drop(columns=['Name','Alignment']))[0]\n",
    "    if result == \"bad\":\n",
    "        bad_heroes.append(hero)\n",
    "\n",
    "print(bad_heroes)\n"
   ]
  },
  {
   "cell_type": "code",
   "execution_count": 35,
   "id": "161d918c",
   "metadata": {},
   "outputs": [
    {
     "data": {
      "text/plain": [
       "0.015151515151515152"
      ]
     },
     "execution_count": 35,
     "metadata": {},
     "output_type": "execute_result"
    }
   ],
   "source": [
    "len(bad_heroes)/len(heroes_list)"
   ]
  },
  {
   "cell_type": "code",
   "execution_count": 93,
   "id": "b188f5ca",
   "metadata": {},
   "outputs": [
    {
     "data": {
      "text/plain": [
       "{}"
      ]
     },
     "execution_count": 93,
     "metadata": {},
     "output_type": "execute_result"
    }
   ],
   "source": []
  },
  {
   "cell_type": "code",
   "execution_count": null,
   "id": "18e8c847",
   "metadata": {},
   "outputs": [],
   "source": []
  }
 ],
 "metadata": {
  "kernelspec": {
   "display_name": "Python 3.10.6 64-bit",
   "language": "python",
   "name": "python3"
  },
  "language_info": {
   "codemirror_mode": {
    "name": "ipython",
    "version": 3
   },
   "file_extension": ".py",
   "mimetype": "text/x-python",
   "name": "python",
   "nbconvert_exporter": "python",
   "pygments_lexer": "ipython3",
   "version": "3.10.6"
  },
  "vscode": {
   "interpreter": {
    "hash": "aee8b7b246df8f9039afb4144a1f6fd8d2ca17a180786b69acc140d282b71a49"
   }
  }
 },
 "nbformat": 4,
 "nbformat_minor": 5
}
